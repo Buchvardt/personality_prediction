{
 "cells": [
  {
   "cell_type": "markdown",
   "metadata": {},
   "source": [
    "# Emojify\n",
    "\n",
    "Lets go through the beginning of the lifecycle of an \"intelligent\" system with a text classification model serving a webapplication in real time.\n",
    "\n",
    "Allthough this is a somewhat useless application, it perfectly describes the process of creating a classification model and bringing it into production. Further more this demo adresses the problem of using unstructured text data as input to a classification model.\n",
    "\n",
    "\n",
    "<img src=\"images/arc1.png\">\n",
    "\n",
    "\n",
    "### 1 iteration\n",
    "Focus is on a baseline model and functionality of the entire application. Model performance is expected to be poor.\n",
    "\n",
    "### 2 iteration\n",
    "Focus is on utilizing NLP/NLU methods and tools to improve the model. This is a need trick when using text based input if there is a small ammount of historic data.\n",
    "\n",
    "### 3 iteration\n",
    "Focus on best practice algorithm for solving this task: Neural Network as LSTM.\n"
   ]
  },
  {
   "cell_type": "markdown",
   "metadata": {},
   "source": [
    "## 1 iteration - Baseline model\n",
    "\n",
    "### 1.1 Dataset\n",
    "\n",
    "We have a tiny dataset (X, Y) where:\n",
    "- X contains 1 sentences (strings)\n",
    "- Y contains a integer label between 0 and 4 corresponding to an emoji for each sentence\n",
    "\n",
    "<img src=\"images/data_set.png\" style=\"width:700px;height:300px;\">\n",
    "<caption><center> **Figure 1**: EMOJISET - a classification problem with 5 classes. A few examples of sentences are given here. </center></caption>\n",
    "\n",
    "Load the dataset using the code below. We split the dataset between training (127 examples) and testing (56 examples)."
   ]
  },
  {
   "cell_type": "code",
   "execution_count": 3,
   "metadata": {},
   "outputs": [],
   "source": [
    "import numpy as np\n",
    "from emo_utils import *\n",
    "import emoji\n",
    "import matplotlib.pyplot as plt\n",
    "\n",
    "%matplotlib inline\n",
    "\n",
    "X_train, Y_train = read_csv('data/train.csv')\n",
    "X_test, Y_test = read_csv('data/test.csv')"
   ]
  },
  {
   "cell_type": "code",
   "execution_count": 13,
   "metadata": {},
   "outputs": [],
   "source": [
    "maxLen = len(max(X_train, key=len).split())"
   ]
  },
  {
   "cell_type": "markdown",
   "metadata": {},
   "source": [
    "We can use `index` to see different examples."
   ]
  },
  {
   "cell_type": "code",
   "execution_count": 80,
   "metadata": {},
   "outputs": [
    {
     "name": "stdout",
     "output_type": "stream",
     "text": [
      "I want to go play ⚾\n"
     ]
    }
   ],
   "source": [
    "index = 9\n",
    "print(X_train[index], label_to_emoji(Y_train[index]))"
   ]
  },
  {
   "cell_type": "markdown",
   "metadata": {},
   "source": [
    "### 1.2 - Overview\n",
    "The input of the model is a string corresponding to a sentence (e.g. \"I love you). In the code, the output will be a probability vector of shape (1,5), that you then pass in an argmax layer to extract the index of the most likely emoji output.\n",
    "\n",
    "Each sentence will be represented by one hot encoding:"
   ]
  },
  {
   "cell_type": "code",
   "execution_count": 11,
   "metadata": {},
   "outputs": [
    {
     "data": {
      "text/plain": [
       "{'never': 165,\n",
       " 'talk': 219,\n",
       " 'to': 228,\n",
       " 'me': 155,\n",
       " 'again': 6,\n",
       " 'am': 10,\n",
       " 'proud': 186,\n",
       " 'of': 169,\n",
       " 'your': 256,\n",
       " 'achievements': 1,\n",
       " 'it': 129,\n",
       " 'is': 128,\n",
       " 'the': 223,\n",
       " 'worst': 252,\n",
       " 'day': 59,\n",
       " 'in': 124,\n",
       " 'my': 164,\n",
       " 'life': 139,\n",
       " 'miss': 159,\n",
       " 'you': 255,\n",
       " 'so': 204,\n",
       " 'much': 162,\n",
       " 'food': 82,\n",
       " 'love': 149,\n",
       " 'mum': 163,\n",
       " 'stop': 211,\n",
       " 'saying': 195,\n",
       " 'bullshit': 32,\n",
       " 'congratulations': 49,\n",
       " 'on': 170,\n",
       " 'acceptance': 0,\n",
       " 'assignment': 20,\n",
       " 'too': 230,\n",
       " 'long': 144,\n",
       " 'want': 239,\n",
       " 'go': 95,\n",
       " 'play': 178,\n",
       " 'she': 199,\n",
       " 'did': 63,\n",
       " 'not': 168,\n",
       " 'answer': 15,\n",
       " 'text': 221,\n",
       " 'stupidity': 212,\n",
       " 'has': 108,\n",
       " 'no': 167,\n",
       " 'limit': 142,\n",
       " 'how': 119,\n",
       " 'many': 154,\n",
       " 'points': 182,\n",
       " 'he': 111,\n",
       " 'score': 196,\n",
       " 'algorithm': 7,\n",
       " 'performs': 174,\n",
       " 'poorly': 183,\n",
       " 'got': 98,\n",
       " 'approved': 17,\n",
       " 'shouting': 200,\n",
       " 'at': 21,\n",
       " 'sounds': 208,\n",
       " 'like': 140,\n",
       " 'fun': 88,\n",
       " 'plan': 177,\n",
       " 'ha': 103,\n",
       " 'one': 171,\n",
       " 'likes': 141,\n",
       " 'him': 115,\n",
       " 'game': 90,\n",
       " 'just': 133,\n",
       " 'finished': 80,\n",
       " 'will': 248,\n",
       " 'celebrate': 40,\n",
       " 'soon': 207,\n",
       " 'sad': 193,\n",
       " 'are': 18,\n",
       " 'coming': 47,\n",
       " 'dearest': 61,\n",
       " 'good': 97,\n",
       " 'job': 130,\n",
       " 'was': 240,\n",
       " 'funny': 89,\n",
       " 'lol': 143,\n",
       " 'candy': 37,\n",
       " 'chicago': 43,\n",
       " 'cubs': 53,\n",
       " 'won': 250,\n",
       " 'hungry': 122,\n",
       " 'excited': 74,\n",
       " 'see': 197,\n",
       " 'after': 4,\n",
       " 'well': 242,\n",
       " 'exam': 73,\n",
       " 'lets': 138,\n",
       " 'brunch': 31,\n",
       " 'some': 206,\n",
       " 'cute': 54,\n",
       " 'dare': 57,\n",
       " 'ask': 19,\n",
       " 'that': 222,\n",
       " 'do': 66,\n",
       " 'join': 131,\n",
       " 'for': 83,\n",
       " 'dinner': 64,\n",
       " 'said': 194,\n",
       " 'yes': 254,\n",
       " 'attractive': 22,\n",
       " 'suck': 214,\n",
       " 'smiles': 203,\n",
       " 'lot': 148,\n",
       " 'laughing': 136,\n",
       " 'takes': 217,\n",
       " 'forever': 84,\n",
       " 'get': 92,\n",
       " 'ready': 189,\n",
       " 'french': 85,\n",
       " 'macaroon': 150,\n",
       " 'tasty': 220,\n",
       " 'we': 241,\n",
       " 'made': 151,\n",
       " 'adore': 3,\n",
       " 'dogs': 68,\n",
       " 'this': 226,\n",
       " 'girl': 93,\n",
       " 'mean': 156,\n",
       " 'two': 232,\n",
       " 'code': 45,\n",
       " 'working': 251,\n",
       " 'but': 33,\n",
       " 'grader': 100,\n",
       " 'gave': 91,\n",
       " 'zero': 257,\n",
       " 'joke': 132,\n",
       " 'killing': 134,\n",
       " 'haha': 105,\n",
       " 'pizza': 176,\n",
       " 'down': 69,\n",
       " 'grade': 99,\n",
       " 'missed': 160,\n",
       " 'think': 225,\n",
       " 'end': 71,\n",
       " 'up': 233,\n",
       " 'alone': 8,\n",
       " 'humiliated': 121,\n",
       " 'by': 34,\n",
       " 'sister': 201,\n",
       " 'awful': 23,\n",
       " 'cooked': 50,\n",
       " 'meat': 157,\n",
       " 'exercise': 75,\n",
       " 'best': 29,\n",
       " 'player': 179,\n",
       " 'going': 96,\n",
       " 'stadium': 210,\n",
       " 'incredibly': 125,\n",
       " 'intelligent': 127,\n",
       " 'and': 13,\n",
       " 'talented': 218,\n",
       " 'who': 247,\n",
       " 'favorite': 77,\n",
       " 'dog': 67,\n",
       " 'had': 104,\n",
       " 'few': 78,\n",
       " 'puppies': 187,\n",
       " 'hate': 109,\n",
       " 'chinese': 44,\n",
       " 'cookies': 51,\n",
       " 'her': 113,\n",
       " 'smile': 202,\n",
       " 'charming': 41,\n",
       " 'bravo': 30,\n",
       " 'announcement': 14,\n",
       " 'traction': 231,\n",
       " 'plays': 181,\n",
       " 'baseball': 28,\n",
       " 'an': 12,\n",
       " 'amazing': 11,\n",
       " 'baby': 24,\n",
       " 'adorable': 2,\n",
       " 'waiting': 237,\n",
       " 'hours': 118,\n",
       " 'when': 245,\n",
       " 'people': 173,\n",
       " 'they': 224,\n",
       " 'kind': 135,\n",
       " 'friendly': 86,\n",
       " 'bad': 25,\n",
       " 'cannot': 38,\n",
       " 'come': 46,\n",
       " 'with': 249,\n",
       " 'us': 234,\n",
       " 'impressed': 123,\n",
       " 'dedication': 62,\n",
       " 'project': 185,\n",
       " 'what': 244,\n",
       " 'moment': 161,\n",
       " 'have': 110,\n",
       " 'sushi': 216,\n",
       " 'very': 236,\n",
       " 'disappointed': 65,\n",
       " 'can': 36,\n",
       " 'anything': 16,\n",
       " 'together': 229,\n",
       " 'dear': 60,\n",
       " 'looking': 145,\n",
       " 'date': 58,\n",
       " 'frustrated': 87,\n",
       " 'lost': 147,\n",
       " 'wallet': 238,\n",
       " 'failed': 76,\n",
       " 'midterm': 158,\n",
       " 'give': 94,\n",
       " 'hug': 120,\n",
       " 'playing': 180,\n",
       " 'final': 79,\n",
       " 'happy': 107,\n",
       " 'qualified': 188,\n",
       " 'position': 184,\n",
       " 'dad': 56,\n",
       " 'guy': 102,\n",
       " 'such': 213,\n",
       " 'specialization': 209,\n",
       " 'great': 101,\n",
       " 'could': 52,\n",
       " 'solve': 205,\n",
       " 'congrats': 48,\n",
       " 'new': 166,\n",
       " 'eat': 70,\n",
       " 'catcher': 39,\n",
       " 'sucks': 215,\n",
       " 'first': 81,\n",
       " 'base': 27,\n",
       " 'man': 153,\n",
       " 'ball': 26,\n",
       " 'homework': 117,\n",
       " 'cheese': 42,\n",
       " 'cake': 35,\n",
       " 'lectures': 137,\n",
       " 'though': 227,\n",
       " 'afternoon': 5,\n",
       " 'rules': 191,\n",
       " 'always': 9,\n",
       " 'where': 246,\n",
       " 'cutest': 55,\n",
       " 'person': 175,\n",
       " 'ever': 72,\n",
       " 'seen': 198,\n",
       " 'vegetables': 235,\n",
       " 'healthy': 112,\n",
       " 'handsome': 106,\n",
       " 'were': 243,\n",
       " 'here': 114,\n",
       " 'loser': 146,\n",
       " 'indian': 126,\n",
       " 'restaurant': 190,\n",
       " 'make': 152,\n",
       " 'home': 116,\n",
       " 'run': 192,\n",
       " 'ordering': 172,\n",
       " 'wrong': 253}"
      ]
     },
     "execution_count": 11,
     "metadata": {},
     "output_type": "execute_result"
    }
   ],
   "source": [
    "from sklearn.feature_extraction.text import CountVectorizer\n",
    "vectorizer = CountVectorizer()\n",
    "vectorizer.fit_transform(X_train)\n",
    "vectorizer.vocabulary_"
   ]
  },
  {
   "cell_type": "code",
   "execution_count": 12,
   "metadata": {},
   "outputs": [
    {
     "name": "stdout",
     "output_type": "stream",
     "text": [
      "I love you mum\n",
      "[0 0 0 0 0 0 0 0 0 0 0 0 0 0 0 0 0 0 0 0 0 0 0 0 0 0 0 0 0 0 0 0 0 0 0 0 0\n",
      " 0 0 0 0 0 0 0 0 0 0 0 0 0 0 0 0 0 0 0 0 0 0 0 0 0 0 0 0 0 0 0 0 0 0 0 0 0\n",
      " 0 0 0 0 0 0 0 0 0 0 0 0 0 0 0 0 0 0 0 0 0 0 0 0 0 0 0 0 0 0 0 0 0 0 0 0 0\n",
      " 0 0 0 0 0 0 0 0 0 0 0 0 0 0 0 0 0 0 0 0 0 0 0 0 0 0 0 0 0 0 0 0 0 0 0 0 0\n",
      " 0 1 0 0 0 0 0 0 0 0 0 0 0 0 0 1 0 0 0 0 0 0 0 0 0 0 0 0 0 0 0 0 0 0 0 0 0\n",
      " 0 0 0 0 0 0 0 0 0 0 0 0 0 0 0 0 0 0 0 0 0 0 0 0 0 0 0 0 0 0 0 0 0 0 0 0 0\n",
      " 0 0 0 0 0 0 0 0 0 0 0 0 0 0 0 0 0 0 0 0 0 0 0 0 0 0 0 0 0 0 0 0 0 1 0 0]\n"
     ]
    }
   ],
   "source": [
    "index = 5\n",
    "print(X_train[index])\n",
    "print(vectorizer.fit_transform(X_train).toarray()[index])"
   ]
  },
  {
   "cell_type": "markdown",
   "metadata": {},
   "source": [
    "Convert labels to one_hot\n"
   ]
  },
  {
   "cell_type": "code",
   "execution_count": 14,
   "metadata": {},
   "outputs": [],
   "source": [
    "Y_oh_train = convert_to_one_hot(Y_train, C = 5)\n",
    "Y_oh_test = convert_to_one_hot(Y_test, C = 5)"
   ]
  },
  {
   "cell_type": "markdown",
   "metadata": {},
   "source": [
    "Change `index` to print out different values. "
   ]
  },
  {
   "cell_type": "code",
   "execution_count": 15,
   "metadata": {},
   "outputs": [
    {
     "name": "stdout",
     "output_type": "stream",
     "text": [
      "0 is converted into one hot [1. 0. 0. 0. 0.]\n"
     ]
    }
   ],
   "source": [
    "index = 50\n",
    "print(Y_train[index], \"is converted into one hot\", Y_oh_train[index])"
   ]
  },
  {
   "cell_type": "markdown",
   "metadata": {},
   "source": [
    "All the data is now ready to be fed into the 1st model."
   ]
  },
  {
   "cell_type": "markdown",
   "metadata": {},
   "source": [
    "### 1.3 - Implementing 1st model\n",
    "\n"
   ]
  },
  {
   "cell_type": "markdown",
   "metadata": {},
   "source": [
    "We now have all the pieces to finish implementing the `model()` function. We need to pass the encoded sentences through forward propagation, compute the cost, and then backpropagate to update the softmax's parameters. \n",
    "\n",
    "The equations needed to implement in the forward pass and to compute the cross-entropy cost are:\n",
    "$$ z^{(i)} = W . X + b$$\n",
    "$$ a^{(i)} = softmax(z^{(i)})$$\n",
    "$$ \\mathcal{L}^{(i)} = - \\sum_{k = 0}^{n_y - 1} Yoh^{(i)}_k * log(a^{(i)}_k)$$"
   ]
  },
  {
   "cell_type": "code",
   "execution_count": 16,
   "metadata": {},
   "outputs": [],
   "source": [
    "def model1(X, Y, vec, learning_rate = 0.01, num_iterations = 400):\n",
    "    \"\"\"\n",
    "    Model to train word vector representations in numpy.\n",
    "    \n",
    "    Arguments:\n",
    "    X -- input data, numpy array of sentences as strings, of shape (m, 1)\n",
    "    Y -- labels, numpy array of integers between 0 and 7, numpy-array of shape (m, 1)\n",
    "    learning_rate -- learning_rate for the stochastic gradient descent algorithm\n",
    "    num_iterations -- number of iterations\n",
    "    \n",
    "    Returns:\n",
    "    pred -- vector of predictions, numpy-array of shape (m, 1)\n",
    "    W -- weight matrix of the softmax layer, of shape (n_y, n_h)\n",
    "    b -- bias of the softmax layer, of shape (n_y,)\n",
    "    \"\"\"\n",
    "    \n",
    "    np.random.seed(1)\n",
    "    X_oh = vec.transform(X_train).toarray()\n",
    "    # Define number of training examples\n",
    "    m = Y.shape[0]                          # number of training examples\n",
    "    n_y = 5                                 # number of classes  \n",
    "    n_h = X_oh.shape[1]                                # Vocab size \n",
    "    \n",
    "    # Initialize parameters using Xavier initialization\n",
    "    W = np.random.randn(n_y, n_h) / np.sqrt(n_h)\n",
    "    b = np.zeros((n_y,))\n",
    "    \n",
    "    # Convert Y to Y_onehot with n_y classes\n",
    "    Y_oh = convert_to_one_hot(Y, C = n_y) \n",
    "    \n",
    " \n",
    "    \n",
    "    # Optimization loop\n",
    "    for t in range(num_iterations):                       # Loop over the number of iterations\n",
    "        for i in range(m):                                # Loop over the training examples\n",
    "            \n",
    "            # Forward propagate the avg through the softmax layer\n",
    "            z = np.dot(W, X_oh[i]) + b\n",
    "            a = softmax(z)\n",
    "\n",
    "            # Compute cost using the i'th training label's one hot representation and \"A\" (the output of the softmax)\n",
    "            cost = sum(Y_oh[i] * np.log(a))*-1\n",
    "            ### END CODE HERE ###\n",
    "            \n",
    "            # Compute gradients \n",
    "            dz = a - Y_oh[i]\n",
    "            dW = np.dot(dz.reshape(n_y,1), X_oh[i].reshape(1, n_h))\n",
    "            db = dz\n",
    "\n",
    "            # Update parameters with Stochastic Gradient Descent\n",
    "            W = W - learning_rate * dW\n",
    "            b = b - learning_rate * db\n",
    "        \n",
    "        if t % 100 == 0:\n",
    "            print(\"Epoch: \" + str(t) + \" --- cost = \" + str(cost))\n",
    "            pred = pred_one(X, Y, W, b, vec)\n",
    "\n",
    "    return pred, W, b"
   ]
  },
  {
   "cell_type": "code",
   "execution_count": 17,
   "metadata": {},
   "outputs": [
    {
     "name": "stdout",
     "output_type": "stream",
     "text": [
      "Epoch: 0 --- cost = 1.4563364074455767\n",
      "Accuracy: 0.3181818181818182\n",
      "Epoch: 100 --- cost = 0.21121590170207158\n",
      "Accuracy: 0.8409090909090909\n",
      "Epoch: 200 --- cost = 0.09600602877519221\n",
      "Accuracy: 0.8560606060606061\n",
      "Epoch: 300 --- cost = 0.05897489019755751\n",
      "Accuracy: 0.8560606060606061\n"
     ]
    }
   ],
   "source": [
    "pred, W, b = model1(X_train, Y_train, vectorizer)"
   ]
  },
  {
   "cell_type": "code",
   "execution_count": 18,
   "metadata": {},
   "outputs": [
    {
     "name": "stdout",
     "output_type": "stream",
     "text": [
      "Training set:\n",
      "Accuracy: 0.8560606060606061\n",
      "Test set:\n",
      "Accuracy: 0.5\n"
     ]
    }
   ],
   "source": [
    "print(\"Training set:\")\n",
    "pred_train = pred_one(X_train, Y_train, W, b, vectorizer)\n",
    "print('Test set:')\n",
    "pred_test = pred_one(X_test, Y_test, W, b, vectorizer)"
   ]
  },
  {
   "cell_type": "markdown",
   "metadata": {},
   "source": [
    "This just goes to show that ML is fairly good at overfitting - even with fairly little effort. \n",
    "OBS: For demo purposes vendors can feed such a poorly trained model \"new\" data to infer, that actually is represented in the training data and thus give the illusion of a robust model.\n",
    "\n",
    "If we use common sense though, we can quickly tear down the model"
   ]
  },
  {
   "cell_type": "code",
   "execution_count": 19,
   "metadata": {},
   "outputs": [
    {
     "name": "stdout",
     "output_type": "stream",
     "text": [
      "Accuracy: 0.0\n",
      "\n",
      "i adore you 😞\n"
     ]
    }
   ],
   "source": [
    "X_my_sentences = np.array([\"i adore you\"])\n",
    "Y_my_labels = np.array([[0]])\n",
    "\n",
    "pred = pred_one(X_my_sentences, Y_my_labels , W, b, vectorizer)\n",
    "print_predictions(X_my_sentences, pred)"
   ]
  },
  {
   "cell_type": "markdown",
   "metadata": {},
   "source": [
    "## 1.4 Deploy first model\n",
    "Now we are ready to deploy the model\n",
    "1. Save the model\n",
    "2. Create web api for serving\n",
    "3. Containerize service\n",
    "4. Deploy\n",
    "\n",
    "5. Create frontend\n",
    "6. Deploy frontend\n",
    "7. Consume API"
   ]
  },
  {
   "cell_type": "markdown",
   "metadata": {},
   "source": [
    "### 1.4.1 Save the model\n",
    "The model is actualle the learning weights and bias. W, b and a forward prop sted"
   ]
  },
  {
   "cell_type": "code",
   "execution_count": 20,
   "metadata": {},
   "outputs": [],
   "source": [
    "import os\n",
    "api_folder = './api'\n",
    "os.makedirs(api_folder, exist_ok=True)\n",
    "\n",
    "app_folder = \"./api/app\"\n",
    "os.makedirs(app_folder, exist_ok=True)"
   ]
  },
  {
   "cell_type": "code",
   "execution_count": 21,
   "metadata": {},
   "outputs": [],
   "source": [
    "import numpy as np\n",
    "np.savetxt(\"api/W1.csv\", W, delimiter =\",\")\n",
    "np.savetxt(\"api/b1.csv\", b, delimiter =\",\")"
   ]
  },
  {
   "cell_type": "code",
   "execution_count": 22,
   "metadata": {},
   "outputs": [],
   "source": [
    "import pickle\n",
    "with open('api/vectorizer1.pkl', 'wb') as fin:\n",
    "    pickle.dump(vectorizer, fin)"
   ]
  },
  {
   "cell_type": "code",
   "execution_count": 23,
   "metadata": {},
   "outputs": [
    {
     "data": {
      "text/plain": [
       "4"
      ]
     },
     "execution_count": 23,
     "metadata": {},
     "output_type": "execute_result"
    }
   ],
   "source": [
    "# Prediction function\n",
    "def pred(X, W, b, vec):\n",
    "    #oh transform\n",
    "    X_oh = vec.transform(X).toarray()\n",
    "    # Forward propagation\n",
    "    Z = np.dot(X_oh, np.transpose(W)) + b\n",
    "    A = softmax(Z)\n",
    "    pred = np.argmax(A)\n",
    "    return pred\n",
    "\n",
    "pred([\"eat\"], W, b, vectorizer)"
   ]
  },
  {
   "cell_type": "markdown",
   "metadata": {},
   "source": [
    "### 1.4.2 Create web API for serving"
   ]
  },
  {
   "cell_type": "code",
   "execution_count": 24,
   "metadata": {},
   "outputs": [
    {
     "name": "stdout",
     "output_type": "stream",
     "text": [
      "Overwriting ./api/app/__init__.py\n"
     ]
    }
   ],
   "source": [
    "%%writefile $app_folder/__init__.py\n",
    "import os\n",
    "import sys                       \n",
    "import time\n",
    "import warnings\n",
    "import pandas as pd\n",
    "import json\n",
    "from flask import Flask\n",
    "from flask import request\n",
    "from flask import jsonify\n",
    "from flask_restplus import Resource,Api,fields\n",
    "import numpy as np\n",
    "import pickle\n",
    "from sklearn.feature_extraction.text import CountVectorizer\n",
    "\n",
    "api = Api()\n",
    "\n",
    "app = Flask(__name__)\n",
    "api.init_app(app)\n",
    "\n",
    "input_sentence = api.model(\"input_sentence\",{\n",
    "    \"Sentence\": fields.String(description=\"Sentence\", required=True)\n",
    "})\n",
    "\n",
    "\n",
    "\n",
    "b = np.loadtxt(\"b1.csv\", delimiter = \",\")\n",
    "W = np.loadtxt(\"W1.csv\", delimiter = \",\")\n",
    "vec = pickle.load(open( \"vectorizer1.pkl\", \"rb\"))\n",
    " \n",
    "def softmax(x):\n",
    "    e_x = np.exp(x - np.max(x))\n",
    "    return e_x / e_x.sum()\n",
    "        \n",
    "def pred(X):\n",
    "    #oh transform\n",
    "    X_oh = vec.transform(X).toarray()\n",
    "    # Forward propagation\n",
    "    Z = np.dot(X_oh, np.transpose(W)) + b\n",
    "    A = softmax(Z)\n",
    "    pred = np.argmax(A)\n",
    "    return pred\n",
    "    \n",
    "@api.route(\"/test\", endpoint='Test that Service is running')\n",
    "class Test(Resource):\n",
    "    def get(self):\n",
    "        return jsonify('Hello from KMD!')\n",
    "    \n",
    "@api.route(\"/emojify\", endpoint='emojify')\n",
    "class Emojify(Resource):\n",
    "    @api.expect(input_sentence)\n",
    "    def post(self):\n",
    "        \n",
    "      \n",
    "        sentence = request.json[\"Sentence\"]\n",
    "        emoji = pred([sentence])\n",
    "        \n",
    "        return jsonify(str(emoji))"
   ]
  },
  {
   "cell_type": "markdown",
   "metadata": {},
   "source": [
    "### 1.4.3 Containerize service"
   ]
  },
  {
   "cell_type": "code",
   "execution_count": 25,
   "metadata": {},
   "outputs": [
    {
     "name": "stdout",
     "output_type": "stream",
     "text": [
      "NAME                 RESOURCE GROUP                  LOCATION    SKU       LOGIN SERVER                    CREATION DATE         ADMIN ENABLED\n",
      "-------------------  ------------------------------  ----------  --------  ------------------------------  --------------------  ---------------\n",
      "letbetalacraikkekic  LetBetaling-Container-Registry  westeurope  Standard  letbetalacraikkekic.azurecr.io  2018-11-28T09:24:22Z  True\n"
     ]
    }
   ],
   "source": [
    "!az account set --subscription 4fc79338-174b-4933-bbb1-ba2f27394d00\n",
    "!az configure --defaults acr=letbetalacraikkekic\n",
    "!az configure --defaults group=LetBetaling-Container-Registry\n",
    "!az acr list -o table"
   ]
  },
  {
   "cell_type": "code",
   "execution_count": 26,
   "metadata": {},
   "outputs": [
    {
     "name": "stdout",
     "output_type": "stream",
     "text": [
      "Overwriting ./api/Dockerfile\n"
     ]
    }
   ],
   "source": [
    "%%writefile $api_folder/Dockerfile\n",
    "FROM python:3.6-stretch\n",
    "MAINTAINER Mikkel Buchvardt \"mbb@kmd.com\"\n",
    "\n",
    "RUN apt-get update\n",
    "RUN apt-get install -y \\\n",
    "    apt-utils \\\n",
    "    gettext-base \\\n",
    "    supervisor \\\n",
    "    apt-transport-https \\\n",
    "    locales\n",
    "\n",
    "COPY . /api\n",
    "WORKDIR /api\n",
    "RUN pip install -r requirements.txt\n",
    "# Run flask app\n",
    "CMD [\"sh\", \"-c\", \"python3.6 emojifyapi.py\"]\n",
    "\n",
    "# Ports opened: Flask and SSH\n",
    "EXPOSE 80"
   ]
  },
  {
   "cell_type": "code",
   "execution_count": 27,
   "metadata": {},
   "outputs": [
    {
     "name": "stdout",
     "output_type": "stream",
     "text": [
      "Overwriting ./api/requirements.txt\n"
     ]
    }
   ],
   "source": [
    "%%writefile $api_folder/requirements.txt\n",
    "Flask==1.0.2\n",
    "pandas==0.23.0\n",
    "flask-restplus\n",
    "flask_restplus\n",
    "Flask-Cors\n",
    "scikit-learn\n",
    "requests\n",
    "emoji\n",
    "numpy"
   ]
  },
  {
   "cell_type": "code",
   "execution_count": 28,
   "metadata": {},
   "outputs": [
    {
     "name": "stdout",
     "output_type": "stream",
     "text": [
      "Overwriting ./api/emojifyapi.py\n"
     ]
    }
   ],
   "source": [
    "%%writefile $api_folder/emojifyapi.py\n",
    "from app import app\n",
    "\n",
    "if __name__ == '__main__':\n",
    "    app.run(host='0.0.0.0', debug=False, use_reloader=False, port = '80')"
   ]
  },
  {
   "cell_type": "code",
   "execution_count": null,
   "metadata": {},
   "outputs": [],
   "source": [
    "!az acr build -r letbetalacraikkekic -t emojifyapi:1 ./api"
   ]
  },
  {
   "cell_type": "markdown",
   "metadata": {},
   "source": [
    "### 1.4.4 Deploy"
   ]
  },
  {
   "cell_type": "code",
   "execution_count": null,
   "metadata": {},
   "outputs": [],
   "source": [
    "!az container create -n emojifyapi --image letbetalacraikkekic.azurecr.io/emojifyapi:1 -g LetBetaling-Container-Registry --ip-address public --dns-name-label mbbkeynoteapi --port 80 --registry-username letbetalacraikkekic --registry-password 3uaJ=9n47pIS7eD2x4zJ5wgYxrygPd9U"
   ]
  },
  {
   "cell_type": "code",
   "execution_count": 29,
   "metadata": {},
   "outputs": [
    {
     "name": "stdout",
     "output_type": "stream",
     "text": [
      "\"2\"\n"
     ]
    },
    {
     "name": "stderr",
     "output_type": "stream",
     "text": [
      "  % Total    % Received % Xferd  Average Speed   Time    Time     Time  Current\n",
      "                                 Dload  Upload   Total   Spent    Left  Speed\n",
      "\n",
      "  0     0    0     0    0     0      0      0 --:--:-- --:--:-- --:--:--     0\n",
      "100    27  100     4  100    23    250   1437 --:--:-- --:--:-- --:--:--  1687\n"
     ]
    }
   ],
   "source": [
    "!curl -X POST \"http://mbbkeynoteapi.westeurope.azurecontainer.io/emojify\" -H \"accept: application/json\" -H \"Content-Type: application/json\" -d \"{ \\\"Sentence\\\": \\\"string\\\"}\""
   ]
  },
  {
   "cell_type": "code",
   "execution_count": 30,
   "metadata": {},
   "outputs": [
    {
     "name": "stdout",
     "output_type": "stream",
     "text": [
      "{'Sentence': 'love'}\n"
     ]
    },
    {
     "data": {
      "text/plain": [
       "'\"0\"\\n'"
      ]
     },
     "execution_count": 30,
     "metadata": {},
     "output_type": "execute_result"
    }
   ],
   "source": [
    "# Test connection\n",
    "import requests\n",
    "var = \"love\"\n",
    "txt = {\"Sentence\": var}\n",
    "print(txt)\n",
    "url = 'http://mbbkeynoteapi.westeurope.azurecontainer.io/emojify'\n",
    "response = requests.post(url, json = txt, )\n",
    "response.text"
   ]
  },
  {
   "cell_type": "code",
   "execution_count": 42,
   "metadata": {},
   "outputs": [
    {
     "data": {
      "text/plain": [
       "0"
      ]
     },
     "execution_count": 42,
     "metadata": {},
     "output_type": "execute_result"
    }
   ],
   "source": [
    "import re\n",
    "import numpy as np\n",
    "np.int(re.sub('[\"\\n]', '', response.text))"
   ]
  },
  {
   "cell_type": "markdown",
   "metadata": {},
   "source": [
    "### 1.4.5 Create Frontend\n",
    "Visual Studio Code"
   ]
  },
  {
   "cell_type": "markdown",
   "metadata": {},
   "source": [
    "### 1.4.6 Containerize & Deploy frontend\n",
    "Visual Studio Code"
   ]
  },
  {
   "cell_type": "markdown",
   "metadata": {},
   "source": [
    "### 1.4.7 Consume Api\n",
    "Visual Studio Code"
   ]
  },
  {
   "cell_type": "markdown",
   "metadata": {},
   "source": [
    "# 2 iteration\n",
    "Here we will use a pretrained word embedding from Standfort\n",
    "https://nlp.stanford.edu/projects/glove/ and average the word embeddings.\n"
   ]
  },
  {
   "cell_type": "markdown",
   "metadata": {},
   "source": [
    "\n",
    "\n",
    "<center>\n",
    "<img src=\"images/image_1.png\" style=\"width:900px;height:300px;\">\n",
    "<caption><center> **Figure 2**: Baseline model (Emojifier-V1).</center></caption>\n",
    "</center>\n",
    "\n",
    "The input of the model is a string corresponding to a sentence (e.g. \"I love you). In the code, the output will be a probability vector of shape (1,5), that you then pass in an argmax layer to extract the index of the most likely emoji output."
   ]
  },
  {
   "cell_type": "markdown",
   "metadata": {},
   "source": [
    "Load pretrained word_to_vec embedding weights"
   ]
  },
  {
   "cell_type": "code",
   "execution_count": 7,
   "metadata": {},
   "outputs": [],
   "source": [
    "word_to_index, index_to_word, word_to_vec_map = read_glove_vecs('data/glove.6B/glove.6B.50d.txt')"
   ]
  },
  {
   "cell_type": "markdown",
   "metadata": {},
   "source": [
    "\n",
    "- `word_to_index`: dictionary mapping from words to their indices in the vocabulary (400,001 words, with the valid indices ranging from 0 to 400,000)\n",
    "- `index_to_word`: dictionary mapping from indices to their corresponding words in the vocabulary\n",
    "- `word_to_vec_map`: dictionary mapping words to their GloVe vector representation.\n",
    "\n",
    "Run the following cell to check if it works."
   ]
  },
  {
   "cell_type": "code",
   "execution_count": 33,
   "metadata": {},
   "outputs": [
    {
     "name": "stdout",
     "output_type": "stream",
     "text": [
      "the index of cucumber in the vocabulary is 113317\n",
      "the 289846th word in the vocabulary is potatos\n"
     ]
    }
   ],
   "source": [
    "word = \"cucumber\"\n",
    "index = 289846\n",
    "print(\"the index of\", word, \"in the vocabulary is\", word_to_index[word])\n",
    "print(\"the\", str(index) + \"th word in the vocabulary is\", index_to_word[index])"
   ]
  },
  {
   "cell_type": "markdown",
   "metadata": {},
   "source": [
    "Implement the average function"
   ]
  },
  {
   "cell_type": "code",
   "execution_count": 34,
   "metadata": {},
   "outputs": [],
   "source": [
    "def sentence_to_avg(sentence, word_to_vec_map):\n",
    "    \"\"\"\n",
    "    Converts a sentence (string) into a list of words (strings). Extracts the GloVe representation of each word\n",
    "    and averages its value into a single vector encoding the meaning of the sentence.\n",
    "    \n",
    "    Arguments:\n",
    "    sentence -- string, one training example from X\n",
    "    word_to_vec_map -- dictionary mapping every word in a vocabulary into its 50-dimensional vector representation\n",
    "    \n",
    "    Returns:\n",
    "    avg -- average vector encoding information about the sentence, numpy-array of shape (50,)\n",
    "    \"\"\"\n",
    "    \n",
    "    ### START CODE HERE ###\n",
    "    # Step 1: Split sentence into list of lower case words (≈ 1 line)\n",
    "    words = sentence.lower().split()\n",
    "\n",
    "    # Initialize the average word vector, should have the same shape as your word vectors.\n",
    "    avg = np.zeros(50)\n",
    "    \n",
    "    # Step 2: average the word vectors. You can loop over the words in the list \"words\".\n",
    "    for w in words:\n",
    "        avg += word_to_vec_map[w]\n",
    "    avg = avg/len(words)\n",
    "    \n",
    "    ### END CODE HERE ###\n",
    "    \n",
    "    return avg"
   ]
  },
  {
   "cell_type": "code",
   "execution_count": 35,
   "metadata": {
    "scrolled": true
   },
   "outputs": [
    {
     "name": "stdout",
     "output_type": "stream",
     "text": [
      "avg =  [-0.008005    0.56370833 -0.50427333  0.258865    0.55131103  0.03104983\n",
      " -0.21013718  0.16893933 -0.09590267  0.141784   -0.15708967  0.18525867\n",
      "  0.6495785   0.38371117  0.21102167  0.11301667  0.02613967  0.26037767\n",
      "  0.05820667 -0.01578167 -0.12078833 -0.02471267  0.4128455   0.5152061\n",
      "  0.38756167 -0.898661   -0.535145    0.33501167  0.68806933 -0.2156265\n",
      "  1.797155    0.10476933 -0.36775333  0.750785    0.10282583  0.348925\n",
      " -0.27262833  0.66768    -0.10706167 -0.283635    0.59580117  0.28747333\n",
      " -0.3366635   0.23393817  0.34349183  0.178405    0.1166155  -0.076433\n",
      "  0.1445417   0.09808667]\n"
     ]
    }
   ],
   "source": [
    "avg = sentence_to_avg(\"Morrocan couscous is my favorite dish\", word_to_vec_map)\n",
    "print(\"avg = \", avg)"
   ]
  },
  {
   "cell_type": "markdown",
   "metadata": {
    "collapsed": true
   },
   "source": [
    "#### Model\n",
    "\n",
    "After using the pretrained embedding to reepresent the words and `sentence_to_avg()` the network is unchanged:\n",
    "\n",
    "$$ z^{(i)} = W . avg^{(i)} + b$$\n",
    "$$ a^{(i)} = softmax(z^{(i)})$$\n",
    "$$ \\mathcal{L}^{(i)} = - \\sum_{k = 0}^{n_y - 1} Yoh^{(i)}_k * log(a^{(i)}_k)$$\n"
   ]
  },
  {
   "cell_type": "code",
   "execution_count": 36,
   "metadata": {},
   "outputs": [],
   "source": [
    "def model(X, Y, word_to_vec_map, learning_rate = 0.01, num_iterations = 400):\n",
    "    \"\"\"\n",
    "    Model to train word vector representations in numpy.\n",
    "    \n",
    "    Arguments:\n",
    "    X -- input data, numpy array of sentences as strings, of shape (m, 1)\n",
    "    Y -- labels, numpy array of integers between 0 and 7, numpy-array of shape (m, 1)\n",
    "    word_to_vec_map -- dictionary mapping every word in a vocabulary into its 50-dimensional vector representation\n",
    "    learning_rate -- learning_rate for the stochastic gradient descent algorithm\n",
    "    num_iterations -- number of iterations\n",
    "    \n",
    "    Returns:\n",
    "    pred -- vector of predictions, numpy-array of shape (m, 1)\n",
    "    W -- weight matrix of the softmax layer, of shape (n_y, n_h)\n",
    "    b -- bias of the softmax layer, of shape (n_y,)\n",
    "    \"\"\"\n",
    "    \n",
    "    np.random.seed(1)\n",
    "\n",
    "    # Define number of training examples\n",
    "    m = Y.shape[0]                          # number of training examples\n",
    "    n_y = 5                                 # number of classes  \n",
    "    n_h = 50                                # dimensions of the GloVe vectors \n",
    "    \n",
    "    # Initialize parameters using Xavier initialization\n",
    "    W = np.random.randn(n_y, n_h) / np.sqrt(n_h)\n",
    "    b = np.zeros((n_y,))\n",
    "    \n",
    "    # Convert Y to Y_onehot with n_y classes\n",
    "    Y_oh = convert_to_one_hot(Y, C = n_y) \n",
    "    \n",
    "    # Optimization loop\n",
    "    for t in range(num_iterations):                       # Loop over the number of iterations\n",
    "        for i in range(m):                                # Loop over the training examples\n",
    "            \n",
    "            ### START CODE HERE ### (≈ 4 lines of code)\n",
    "            # Average the word vectors of the words from the i'th training example\n",
    "            avg = sentence_to_avg(X[i], word_to_vec_map)\n",
    "\n",
    "            # Forward propagate the avg through the softmax layer\n",
    "            z = np.dot(W, avg) + b\n",
    "            a = softmax(z)\n",
    "\n",
    "            # Compute cost using the i'th training label's one hot representation and \"A\" (the output of the softmax)\n",
    "            cost = sum(Y_oh[i] * np.log(a))*-1\n",
    "            ### END CODE HERE ###\n",
    "            \n",
    "            # Compute gradients \n",
    "            dz = a - Y_oh[i]\n",
    "            dW = np.dot(dz.reshape(n_y,1), avg.reshape(1, n_h))\n",
    "            db = dz\n",
    "\n",
    "            # Update parameters with Stochastic Gradient Descent\n",
    "            W = W - learning_rate * dW\n",
    "            b = b - learning_rate * db\n",
    "        \n",
    "        if t % 100 == 0:\n",
    "            print(\"Epoch: \" + str(t) + \" --- cost = \" + str(cost))\n",
    "            pred = predict(X, Y, W, b, word_to_vec_map)\n",
    "\n",
    "    return pred, W, b"
   ]
  },
  {
   "cell_type": "markdown",
   "metadata": {},
   "source": [
    "We can now train the 2.nd model and learn the softmax parameters (W,b). "
   ]
  },
  {
   "cell_type": "code",
   "execution_count": 37,
   "metadata": {
    "scrolled": true
   },
   "outputs": [
    {
     "name": "stdout",
     "output_type": "stream",
     "text": [
      "Epoch: 0 --- cost = 1.9520498812810072\n",
      "Accuracy: 0.3484848484848485\n",
      "Epoch: 100 --- cost = 0.07971818726014807\n",
      "Accuracy: 0.9318181818181818\n",
      "Epoch: 200 --- cost = 0.04456369243681402\n",
      "Accuracy: 0.9545454545454546\n",
      "Epoch: 300 --- cost = 0.03432267378786059\n",
      "Accuracy: 0.9696969696969697\n"
     ]
    }
   ],
   "source": [
    "pred, W, b = model(X_train, Y_train, word_to_vec_map)"
   ]
  },
  {
   "cell_type": "markdown",
   "metadata": {},
   "source": [
    "High accuracy on the training set. Lets now see how it does on the test set. "
   ]
  },
  {
   "cell_type": "code",
   "execution_count": 38,
   "metadata": {
    "scrolled": false
   },
   "outputs": [
    {
     "name": "stdout",
     "output_type": "stream",
     "text": [
      "Training set:\n",
      "Accuracy: 0.9772727272727273\n",
      "Test set:\n",
      "Accuracy: 0.8571428571428571\n"
     ]
    }
   ],
   "source": [
    "print(\"Training set:\")\n",
    "pred_train = predict(X_train, Y_train, W, b, word_to_vec_map)\n",
    "print('Test set:')\n",
    "pred_test = predict(X_test, Y_test, W, b, word_to_vec_map)"
   ]
  },
  {
   "cell_type": "markdown",
   "metadata": {},
   "source": [
    "Random guessing would have had 20% accuracy given that there are 5 classes. This is pretty good performance after training on only 127 examples. \n",
    "\n",
    "In the training set, the algorithm saw the sentence \"*I love you*\" with the label ❤️.\n",
    "Now we can check that however the word \"adore\" does not appear in the training set the model generalizes ok.\n",
    "\n"
   ]
  },
  {
   "cell_type": "code",
   "execution_count": 39,
   "metadata": {},
   "outputs": [
    {
     "name": "stdout",
     "output_type": "stream",
     "text": [
      "Accuracy: 0.8333333333333334\n",
      "\n",
      "i adore you ❤️\n",
      "i love you ❤️\n",
      "funny lol 😄\n",
      "lets play with a ball ⚾\n",
      "food is ready 🍴\n",
      "not feeling happy 😄\n"
     ]
    }
   ],
   "source": [
    "X_my_sentences = np.array([\"i adore you\", \"i love you\", \"funny lol\", \"lets play with a ball\", \"food is ready\", \"not feeling happy\"])\n",
    "Y_my_labels = np.array([[0], [0], [2], [1], [4],[3]])\n",
    "\n",
    "pred = predict(X_my_sentences, Y_my_labels , W, b, word_to_vec_map)\n",
    "print_predictions(X_my_sentences, pred)"
   ]
  },
  {
   "cell_type": "markdown",
   "metadata": {},
   "source": [
    "Note that it doesn't get \"not feeling happy\" correct. This algorithm ignores word ordering, so is not good at understanding phrases like \"not happy.\" \n",
    "\n",
    "Printing the confusion matrix can also help understand which classes are more difficult for your model. A confusion matrix shows how often an example whose label is one class (\"actual\" class) is mislabeled by the algorithm with a different class (\"predicted\" class). "
   ]
  },
  {
   "cell_type": "code",
   "execution_count": 43,
   "metadata": {},
   "outputs": [
    {
     "name": "stdout",
     "output_type": "stream",
     "text": [
      "           ❤️   ⚾   😄   😞   🍴\n",
      "Predicted  0.0  1.0  2.0  3.0  4.0  All\n",
      "Actual                                 \n",
      "0            6    0    0    1    0    7\n",
      "1            0    8    0    0    0    8\n",
      "2            2    0   16    0    0   18\n",
      "3            1    1    2   12    0   16\n",
      "4            0    0    1    0    6    7\n",
      "All          9    9   19   13    6   56\n"
     ]
    },
    {
     "data": {
      "image/png": "[encoded data removed]",
      "text/plain": [
       "<Figure size 288x288 with 2 Axes>"
      ]
     },
     "metadata": {},
     "output_type": "display_data"
    }
   ],
   "source": [
    "#print(Y_test.shape)\n",
    "import pandas as pd\n",
    "print('           '+ label_to_emoji(0)+ '   ' + label_to_emoji(1) + '   ' +  label_to_emoji(2)+ '   ' + label_to_emoji(3)+'   ' + label_to_emoji(4))\n",
    "print(pd.crosstab(Y_test, pred_test.reshape(56,), rownames=['Actual'], colnames=['Predicted'], margins=True))\n",
    "plot_confusion_matrix(Y_test, pred_test)"
   ]
  },
  {
   "cell_type": "markdown",
   "metadata": {
    "collapsed": true
   },
   "source": [
    "### CI/CD\n",
    "Now it is time to replace the 2.nd model in the production system\n"
   ]
  },
  {
   "cell_type": "code",
   "execution_count": 46,
   "metadata": {},
   "outputs": [],
   "source": [
    "#Save model v2\n",
    "import numpy as np\n",
    "np.savetxt(\"api/W2.csv\", W, delimiter =\",\")\n",
    "np.savetxt(\"api/b2.csv\", b, delimiter =\",\")\n",
    "import pickle\n",
    "with open('api/vectorizer2.pkl', 'wb') as fin:\n",
    "    pickle.dump(vectorizer, fin)"
   ]
  },
  {
   "cell_type": "code",
   "execution_count": null,
   "metadata": {},
   "outputs": [],
   "source": [
    "app_folder = \"./api/app2\"\n",
    "os.makedirs(app_folder, exist_ok=True)"
   ]
  },
  {
   "cell_type": "code",
   "execution_count": 50,
   "metadata": {},
   "outputs": [],
   "source": [
    "def predict(X, W, b, word_to_vec_map):\n",
    "            \n",
    "        words = X.lower().split()\n",
    "        avg = np.zeros((50,))\n",
    "        for w in words:\n",
    "            avg += word_to_vec_map[w]\n",
    "        avg = avg/len(words)\n",
    "        # Forward propagation\n",
    "        Z = np.dot(W, avg) + b\n",
    "        A = softmax(Z)\n",
    "        pred = np.argmax(A)\n",
    "        return pred"
   ]
  },
  {
   "cell_type": "code",
   "execution_count": 54,
   "metadata": {},
   "outputs": [
    {
     "data": {
      "text/plain": [
       "1"
      ]
     },
     "execution_count": 54,
     "metadata": {},
     "output_type": "execute_result"
    }
   ],
   "source": [
    "predict(\"ball\", W, b, word_to_vec_map)"
   ]
  },
  {
   "cell_type": "code",
   "execution_count": 64,
   "metadata": {},
   "outputs": [
    {
     "name": "stdout",
     "output_type": "stream",
     "text": [
      "Overwriting ./api/app2/__init__.py\n"
     ]
    }
   ],
   "source": [
    "%%writefile $app_folder/__init__.py\n",
    "import os\n",
    "import sys                       \n",
    "import time\n",
    "import warnings\n",
    "import pandas as pd\n",
    "import json\n",
    "from flask import Flask\n",
    "from flask import request\n",
    "from flask import jsonify\n",
    "from flask_restplus import Resource,Api,fields\n",
    "import numpy as np\n",
    "import pickle\n",
    "from sklearn.feature_extraction.text import CountVectorizer\n",
    "\n",
    "api = Api()\n",
    "\n",
    "app = Flask(__name__)\n",
    "api.init_app(app)\n",
    "\n",
    "input_sentence = api.model(\"input_sentence\",{\n",
    "    \"Sentence\": fields.String(description=\"Sentence\", required=True)\n",
    "})\n",
    "\n",
    "\n",
    "\n",
    "b = np.loadtxt(\"b1.csv\", delimiter = \",\")\n",
    "W = np.loadtxt(\"W1.csv\", delimiter = \",\")\n",
    "vec = pickle.load(open( \"vectorizer1.pkl\", \"rb\"))\n",
    "\n",
    "def read_glove_vecs(glove_file):\n",
    "    with open(glove_file, 'r', encoding=\"utf8\", errors=\"ignore\") as f:\n",
    "        words = set()\n",
    "        word_to_vec_map = {}\n",
    "        for line in f:\n",
    "            line = line.strip().split()\n",
    "            curr_word = line[0]\n",
    "            words.add(curr_word)\n",
    "            word_to_vec_map[curr_word] = np.array(line[1:], dtype=np.float64)\n",
    "        \n",
    "        i = 1\n",
    "        words_to_index = {}\n",
    "        index_to_words = {}\n",
    "        for w in sorted(words):\n",
    "            words_to_index[w] = i\n",
    "            index_to_words[i] = w\n",
    "            i = i + 1\n",
    "    return words_to_index, index_to_words, word_to_vec_map\n",
    "\n",
    "b2 = np.loadtxt(\"b2.csv\", delimiter = \",\")\n",
    "W2 = np.loadtxt(\"W2.csv\", delimiter = \",\")\n",
    "word_to_index, index_to_word, word_to_vec_map = read_glove_vecs('glove.6B.50d.txt')\n",
    "\n",
    " \n",
    "def softmax(x):\n",
    "    e_x = np.exp(x - np.max(x))\n",
    "    return e_x / e_x.sum()\n",
    "        \n",
    "def pred(X):\n",
    "    #oh transform\n",
    "    X_oh = vec.transform(X).toarray()\n",
    "    # Forward propagation\n",
    "    Z = np.dot(X_oh, np.transpose(W)) + b\n",
    "    A = softmax(Z)\n",
    "    pred = np.argmax(A)\n",
    "    return pred\n",
    "\n",
    "def predict(X):\n",
    "            \n",
    "        words = X.lower().split()\n",
    "        avg = np.zeros((50,))\n",
    "        for w in words:\n",
    "            avg += word_to_vec_map[w]\n",
    "        avg = avg/len(words)\n",
    "        # Forward propagation\n",
    "        Z = np.dot(W2, avg) + b2\n",
    "        A = softmax(Z)\n",
    "        pred = np.argmax(A)\n",
    "        return pred\n",
    "    \n",
    "    \n",
    "    \n",
    "@api.route(\"/test\", endpoint='Test that Service is running')\n",
    "class Test(Resource):\n",
    "    def get(self):\n",
    "        return jsonify('Hello from KMD!')\n",
    "    \n",
    "@api.route(\"/emojify\", endpoint='emojify')\n",
    "class Emojify(Resource):\n",
    "    @api.expect(input_sentence)\n",
    "    def post(self):\n",
    "        \n",
    "      \n",
    "        sentence = request.json[\"Sentence\"]\n",
    "        emoji = pred([sentence])\n",
    "        \n",
    "        return jsonify(str(emoji))\n",
    "    \n",
    "@api.route(\"/emojify2\", endpoint='emojify2')\n",
    "class Emojify2(Resource):\n",
    "    @api.expect(input_sentence)\n",
    "    def post(self):\n",
    "        \n",
    "      \n",
    "        sentence = request.json[\"Sentence\"]\n",
    "        emoji = predict(sentence)\n",
    "        \n",
    "        return jsonify(str(emoji))"
   ]
  },
  {
   "cell_type": "code",
   "execution_count": 57,
   "metadata": {},
   "outputs": [
    {
     "name": "stdout",
     "output_type": "stream",
     "text": [
      "Writing ./api/emojifyapi2.py\n"
     ]
    }
   ],
   "source": [
    "%%writefile $api_folder/emojifyapi2.py\n",
    "from app2 import app\n",
    "\n",
    "if __name__ == '__main__':\n",
    "    app.run(host='0.0.0.0', debug=False, use_reloader=False, port = '80')"
   ]
  },
  {
   "cell_type": "code",
   "execution_count": 65,
   "metadata": {},
   "outputs": [
    {
     "name": "stdout",
     "output_type": "stream",
     "text": [
      "2019/01/21 13:40:18 Using acb_vol_3d9e365f-42c4-45e4-9ce1-0707035c5b3f as the home volume\n",
      "2019/01/21 13:40:18 Setting up Docker configuration...\n",
      "2019/01/21 13:40:19 Successfully set up Docker configuration\n",
      "2019/01/21 13:40:19 Logging in to registry: letbetalacraikkekic.azurecr.io\n",
      "\n",
      "2019/01/21 13:40:21 Successfully logged into letbetalacraikkekic.azurecr.io\n",
      "2019/01/21 13:40:21 Executing step ID: build. Working directory: '', Network: ''\n",
      "2019/01/21 13:40:21 Obtaining source code and scanning for dependencies...\n",
      "2019/01/21 13:40:25 Successfully obtained source code and scanned for dependencies\n",
      "\n",
      "2019/01/21 13:40:25 Launching container with name: build\n",
      "Sending build context to Docker daemon  171.4MB\n",
      "\n",
      "\n",
      "\n",
      "Step 1/9 : FROM python:3.6-stretch\n",
      "3.6-stretch: Pulling from library/python\n",
      "cd8eada9c7bb: Already exists\n",
      "c2677faec825: Already exists\n",
      "fcce419a96b1: Already exists\n",
      "045b51e26e75: Already exists\n",
      "3b969ad6f147: Already exists\n",
      "6992ba8c827e: Pulling fs layer\n",
      "15cdf2df3fc4: Pulling fs layer\n",
      "2929c9fb25e5: Pulling fs layer\n",
      "bf6c76496fdd: Pulling fs layer\n",
      "bf6c76496fdd: Waiting\n",
      "2929c9fb25e5: Verifying Checksum\n",
      "2929c9fb25e5: Download complete\n",
      "\n",
      "6992ba8c827e: Verifying Checksum\n",
      "6992ba8c827e: Download complete\n",
      "15cdf2df3fc4: Verifying Checksum\n",
      "15cdf2df3fc4: Download complete\n",
      "bf6c76496fdd: Verifying Checksum\n",
      "bf6c76496fdd: Download complete\n",
      "6992ba8c827e: Pull complete\n",
      "15cdf2df3fc4: Pull complete\n",
      "\n",
      "2929c9fb25e5: Pull complete\n",
      "bf6c76496fdd: Pull complete\n",
      "Digest: sha256:ab2670ec57d486f73e49e7352de6a80b6767e3c996c1c0d0c158f17ae6f2d113\n",
      "Status: Downloaded newer image for python:3.6-stretch\n",
      " ---> 55fb8aca33df\n",
      "Step 2/9 : MAINTAINER Mikkel Buchvardt \"mbb@kmd.com\"\n",
      " ---> Running in 3e2cea3f886c\n",
      "Removing intermediate container 3e2cea3f886c\n",
      " ---> 719f0af8a051\n",
      "Step 3/9 : RUN apt-get update\n",
      " ---> Running in 74bccc18b4b2\n",
      "Ign:1 http://deb.debian.org/debian stretch InRelease\n",
      "Get:2 http://deb.debian.org/debian stretch-updates InRelease [91.0 kB]\n",
      "Get:3 http://deb.debian.org/debian stretch Release [118 kB]\n",
      "Get:4 http://security.debian.org/debian-security stretch/updates InRelease [94.3 kB]\n",
      "Get:5 http://deb.debian.org/debian stretch Release.gpg [2434 B]\n",
      "Get:6 http://deb.debian.org/debian stretch-updates/main amd64 Packages [5152 B]\n",
      "Get:7 http://deb.debian.org/debian stretch/main amd64 Packages [7089 kB]\n",
      "Get:8 http://security.debian.org/debian-security stretch/updates/main amd64 Packages [467 kB]\n",
      "Fetched 7868 kB in 1s (4730 kB/s)\n",
      "\n",
      "Reading package lists...\n",
      "Removing intermediate container 74bccc18b4b2\n",
      " ---> c9005d52783a\n",
      "Step 4/9 : RUN apt-get install -y     apt-utils     gettext-base     supervisor     apt-transport-https     locales\n",
      " ---> Running in e5787c27885c\n",
      "Reading package lists...\n",
      "\n",
      "Building dependency tree...\n",
      "Reading state information...\n",
      "The following additional packages will be installed:\n",
      "  libapt-inst2.0 libc-l10n python-meld3 python-pkg-resources\n",
      "Suggested packages:\n",
      "  python-setuptools supervisor-doc\n",
      "The following NEW packages will be installed:\n",
      "  apt-transport-https apt-utils gettext-base libapt-inst2.0 libc-l10n locales\n",
      "  python-meld3 python-pkg-resources supervisor\n",
      "0 upgraded, 9 newly installed, 0 to remove and 3 not upgraded.\n",
      "Need to get 5485 kB of archives.\n",
      "After this operation, 18.5 MB of additional disk space will be used.\n",
      "Get:1 http://deb.debian.org/debian stretch/main amd64 libapt-inst2.0 amd64 1.4.8 [192 kB]\n",
      "Get:2 http://deb.debian.org/debian stretch/main amd64 apt-utils amd64 1.4.8 [410 kB]\n",
      "Get:3 http://deb.debian.org/debian stretch/main amd64 gettext-base amd64 0.19.8.1-2 [121 kB]\n",
      "Get:4 http://deb.debian.org/debian stretch/main amd64 libc-l10n all 2.24-11+deb9u3 [820 kB]\n",
      "Get:5 http://deb.debian.org/debian stretch/main amd64 locales all 2.24-11+deb9u3 [3287 kB]\n",
      "Get:6 http://deb.debian.org/debian stretch/main amd64 apt-transport-https amd64 1.4.8 [171 kB]\n",
      "Get:7 http://deb.debian.org/debian stretch/main amd64 python-pkg-resources all 33.1.1-1 [166 kB]\n",
      "Get:8 http://deb.debian.org/debian stretch/main amd64 python-meld3 all 1.0.2-2 [37.3 kB]\n",
      "Get:9 http://deb.debian.org/debian stretch/main amd64 supervisor all 3.3.1-1+deb9u1 [280 kB]\n",
      "debconf: delaying package configuration, since apt-utils is not installed\n",
      "Fetched 5485 kB in 0s (46.5 MB/s)\n",
      "Selecting previously unselected package libapt-inst2.0:amd64.\n",
      "\n",
      "(Reading database ... \n",
      "(Reading database ... 5%\n",
      "(Reading database ... 10%\n",
      "(Reading database ... 15%\n",
      "(Reading database ... 20%\n",
      "(Reading database ... 25%\n",
      "(Reading database ... 30%\n",
      "(Reading database ... 35%\n",
      "(Reading database ... 40%\n",
      "(Reading database ... 45%\n",
      "(Reading database ... 50%\n",
      "(Reading database ... 55%\n",
      "(Reading database ... 60%\n",
      "(Reading database ... 65%\n",
      "(Reading database ... 70%\n",
      "(Reading database ... 75%\n",
      "(Reading database ... 80%\n",
      "(Reading database ... 85%\n",
      "(Reading database ... 90%\n",
      "(Reading database ... 95%\n",
      "(Reading database ... 100%\n",
      "(Reading database ... 30533 files and directories currently installed.)\n",
      "\n",
      "Preparing to unpack .../0-libapt-inst2.0_1.4.8_amd64.deb ...\n",
      "\n",
      "Unpacking libapt-inst2.0:amd64 (1.4.8) ...\n",
      "\n",
      "Selecting previously unselected package apt-utils.\n",
      "\n",
      "Preparing to unpack .../1-apt-utils_1.4.8_amd64.deb ...\n",
      "\n",
      "Unpacking apt-utils (1.4.8) ...\n",
      "\n",
      "Selecting previously unselected package gettext-base.\n",
      "\n",
      "Preparing to unpack .../2-gettext-base_0.19.8.1-2_amd64.deb ...\n",
      "\n",
      "Unpacking gettext-base (0.19.8.1-2) ...\n",
      "\n",
      "Selecting previously unselected package libc-l10n.\n",
      "\n",
      "Preparing to unpack .../3-libc-l10n_2.24-11+deb9u3_all.deb ...\n",
      "\n",
      "Unpacking libc-l10n (2.24-11+deb9u3) ...\n",
      "\n",
      "Selecting previously unselected package locales.\n",
      "\n",
      "Preparing to unpack .../4-locales_2.24-11+deb9u3_all.deb ...\n",
      "\n",
      "Unpacking locales (2.24-11+deb9u3) ...\n",
      "\n",
      "Selecting previously unselected package apt-transport-https.\n",
      "\n",
      "\n",
      "Preparing to unpack .../5-apt-transport-https_1.4.8_amd64.deb ...\n",
      "\n",
      "Unpacking apt-transport-https (1.4.8) ...\n",
      "\n",
      "Selecting previously unselected package python-pkg-resources.\n",
      "\n",
      "Preparing to unpack .../6-python-pkg-resources_33.1.1-1_all.deb ...\n",
      "\n",
      "Unpacking python-pkg-resources (33.1.1-1) ...\n",
      "\n",
      "Selecting previously unselected package python-meld3.\n",
      "\n",
      "Preparing to unpack .../7-python-meld3_1.0.2-2_all.deb ...\n",
      "\n",
      "Unpacking python-meld3 (1.0.2-2) ...\n",
      "\n",
      "Selecting previously unselected package supervisor.\n",
      "\n",
      "Preparing to unpack .../8-supervisor_3.3.1-1+deb9u1_all.deb ...\n",
      "\n",
      "Unpacking supervisor (3.3.1-1+deb9u1) ...\n",
      "\n",
      "Setting up libapt-inst2.0:amd64 (1.4.8) ...\n",
      "\n",
      "Setting up apt-transport-https (1.4.8) ...\n",
      "\n",
      "Setting up apt-utils (1.4.8) ...\n",
      "\n",
      "Setting up python-meld3 (1.0.2-2) ...\n",
      "\n",
      "Setting up gettext-base (0.19.8.1-2) ...\n",
      "\n",
      "Setting up python-pkg-resources (33.1.1-1) ...\n",
      "\n",
      "Setting up supervisor (3.3.1-1+deb9u1) ...\n",
      "\n",
      "\n",
      "invoke-rc.d: could not determine current runlevel\n",
      "\n",
      "invoke-rc.d: policy-rc.d denied execution of start.\n",
      "\n",
      "Processing triggers for libc-bin (2.24-11+deb9u3) ...\n",
      "\n",
      "Setting up libc-l10n (2.24-11+deb9u3) ...\n",
      "\n",
      "Setting up locales (2.24-11+deb9u3) ...\n",
      "\n",
      "debconf: unable to initialize frontend: Dialog\n",
      "\n",
      "debconf: (TERM is not set, so the dialog frontend is not usable.)\n",
      "\n",
      "debconf: falling back to frontend: Readline\n",
      "\n",
      "Generating locales (this might take a while)...\n",
      "\n",
      "\n",
      "Generation complete.\n",
      "\n",
      "Removing intermediate container e5787c27885c\n",
      " ---> d22e0b70b2d3\n",
      "Step 5/9 : COPY . /api\n",
      " ---> 5b7393e5fd79\n",
      "Step 6/9 : WORKDIR /api\n",
      "\n",
      " ---> Running in f60b97d3877b\n",
      "Removing intermediate container f60b97d3877b\n",
      " ---> 2201efc85d66\n",
      "Step 7/9 : RUN pip install -r requirements.txt\n",
      " ---> Running in b6b0b296f797\n",
      "Collecting Flask==1.0.2 (from -r requirements.txt (line 1))\n",
      "  Downloading https://files.pythonhosted.org/packages/7f/e7/08578774ed4536d3242b14dacb4696386634607af824ea997202cd0edb4b/Flask-1.0.2-py2.py3-none-any.whl (91kB)\n",
      "\n",
      "Collecting pandas==0.23.0 (from -r requirements.txt (line 2))\n",
      "  Downloading https://files.pythonhosted.org/packages/69/ec/8ff0800b8594691759b78a42ccd616f81e7099ee47b167eb9bbd502c02b9/pandas-0.23.0-cp36-cp36m-manylinux1_x86_64.whl (11.7MB)\n",
      "Collecting flask-restplus (from -r requirements.txt (line 3))\n",
      "  Downloading https://files.pythonhosted.org/packages/29/65/a928450eed445995fb25f9e4fe1495d2e8d53d9ddcfe1d94a017bed9f74e/flask_restplus-0.12.1-py2.py3-none-any.whl (2.5MB)\n",
      "Collecting Flask-Cors (from -r requirements.txt (line 5))\n",
      "  Downloading https://files.pythonhosted.org/packages/65/cb/683f71ff8daa3aea0a5cbb276074de39f9ab66d3fbb8ad5efb5bb83e90d2/Flask_Cors-3.0.7-py2.py3-none-any.whl\n",
      "Collecting scikit-learn (from -r requirements.txt (line 6))\n",
      "  Downloading https://files.pythonhosted.org/packages/0d/3a/b92670f5c368c20329ecc4c255993fae7934564d485c3ed7ea7b8da7f741/scikit_learn-0.20.2-cp36-cp36m-manylinux1_x86_64.whl (5.4MB)\n",
      "Collecting requests (from -r requirements.txt (line 7))\n",
      "  Downloading https://files.pythonhosted.org/packages/7d/e3/20f3d364d6c8e5d2353c72a67778eb189176f08e873c9900e10c0287b84b/requests-2.21.0-py2.py3-none-any.whl (57kB)\n",
      "Collecting emoji (from -r requirements.txt (line 8))\n",
      "  Downloading https://files.pythonhosted.org/packages/9c/fb/7586e11ff9205c9be9d11d376fcb6990ec4bdfae0a35663fb1ada7e3c10f/emoji-0.5.1-py3-none-any.whl\n",
      "Collecting numpy (from -r requirements.txt (line 9))\n",
      "  Downloading https://files.pythonhosted.org/packages/7b/74/54c5f9bb9bd4dae27a61ec1b39076a39d359b3fb7ba15da79ef23858a9d8/numpy-1.16.0-cp36-cp36m-manylinux1_x86_64.whl (17.3MB)\n",
      "\n",
      "Collecting itsdangerous>=0.24 (from Flask==1.0.2->-r requirements.txt (line 1))\n",
      "  Downloading https://files.pythonhosted.org/packages/76/ae/44b03b253d6fade317f32c24d100b3b35c2239807046a4c953c7b89fa49e/itsdangerous-1.1.0-py2.py3-none-any.whl\n",
      "Collecting click>=5.1 (from Flask==1.0.2->-r requirements.txt (line 1))\n",
      "  Downloading https://files.pythonhosted.org/packages/fa/37/45185cb5abbc30d7257104c434fe0b07e5a195a6847506c074527aa599ec/Click-7.0-py2.py3-none-any.whl (81kB)\n",
      "Collecting Jinja2>=2.10 (from Flask==1.0.2->-r requirements.txt (line 1))\n",
      "  Downloading https://files.pythonhosted.org/packages/7f/ff/ae64bacdfc95f27a016a7bed8e8686763ba4d277a78ca76f32659220a731/Jinja2-2.10-py2.py3-none-any.whl (126kB)\n",
      "Collecting Werkzeug>=0.14 (from Flask==1.0.2->-r requirements.txt (line 1))\n",
      "  Downloading https://files.pythonhosted.org/packages/20/c4/12e3e56473e52375aa29c4764e70d1b8f3efa6682bef8d0aae04fe335243/Werkzeug-0.14.1-py2.py3-none-any.whl (322kB)\n",
      "Collecting pytz>=2011k (from pandas==0.23.0->-r requirements.txt (line 2))\n",
      "  Downloading https://files.pythonhosted.org/packages/61/28/1d3920e4d1d50b19bc5d24398a7cd85cc7b9a75a490570d5a30c57622d34/pytz-2018.9-py2.py3-none-any.whl (510kB)\n",
      "Collecting python-dateutil>=2.5.0 (from pandas==0.23.0->-r requirements.txt (line 2))\n",
      "  Downloading https://files.pythonhosted.org/packages/74/68/d87d9b36af36f44254a8d512cbfc48369103a3b9e474be9bdfe536abfc45/python_dateutil-2.7.5-py2.py3-none-any.whl (225kB)\n",
      "Collecting jsonschema (from flask-restplus->-r requirements.txt (line 3))\n",
      "  Downloading https://files.pythonhosted.org/packages/77/de/47e35a97b2b05c2fadbec67d44cfcdcd09b8086951b331d82de90d2912da/jsonschema-2.6.0-py2.py3-none-any.whl\n",
      "Collecting six>=1.3.0 (from flask-restplus->-r requirements.txt (line 3))\n",
      "  Downloading https://files.pythonhosted.org/packages/73/fb/00a976f728d0d1fecfe898238ce23f502a721c0ac0ecfedb80e0d88c64e9/six-1.12.0-py2.py3-none-any.whl\n",
      "Collecting aniso8601>=0.82 (from flask-restplus->-r requirements.txt (line 3))\n",
      "  Downloading https://files.pythonhosted.org/packages/8c/1d/6fdba7c6e28a53fea0cb13171829fb1812c400eb0d4d9d1de25ec5d81f0f/aniso8601-4.1.0-py2.py3-none-any.whl (40kB)\n",
      "Collecting scipy>=0.13.3 (from scikit-learn->-r requirements.txt (line 6))\n",
      "  Downloading https://files.pythonhosted.org/packages/67/e6/6d4edaceee6a110ecf6f318482f5229792f143e468b34a631f5a0899f56d/scipy-1.2.0-cp36-cp36m-manylinux1_x86_64.whl (26.6MB)\n",
      "Collecting chardet<3.1.0,>=3.0.2 (from requests->-r requirements.txt (line 7))\n",
      "\n",
      "  Downloading https://files.pythonhosted.org/packages/bc/a9/01ffebfb562e4274b6487b4bb1ddec7ca55ec7510b22e4c51f14098443b8/chardet-3.0.4-py2.py3-none-any.whl (133kB)\n",
      "Collecting urllib3<1.25,>=1.21.1 (from requests->-r requirements.txt (line 7))\n",
      "  Downloading https://files.pythonhosted.org/packages/62/00/ee1d7de624db8ba7090d1226aebefab96a2c71cd5cfa7629d6ad3f61b79e/urllib3-1.24.1-py2.py3-none-any.whl (118kB)\n",
      "Collecting certifi>=2017.4.17 (from requests->-r requirements.txt (line 7))\n",
      "  Downloading https://files.pythonhosted.org/packages/9f/e0/accfc1b56b57e9750eba272e24c4dddeac86852c2bebd1236674d7887e8a/certifi-2018.11.29-py2.py3-none-any.whl (154kB)\n",
      "Collecting idna<2.9,>=2.5 (from requests->-r requirements.txt (line 7))\n",
      "  Downloading https://files.pythonhosted.org/packages/14/2c/cd551d81dbe15200be1cf41cd03869a46fe7226e7450af7a6545bfc474c9/idna-2.8-py2.py3-none-any.whl (58kB)\n",
      "Collecting MarkupSafe>=0.23 (from Jinja2>=2.10->Flask==1.0.2->-r requirements.txt (line 1))\n",
      "  Downloading https://files.pythonhosted.org/packages/08/04/f2191b50fb7f0712f03f064b71d8b4605190f2178ba02e975a87f7b89a0d/MarkupSafe-1.1.0-cp36-cp36m-manylinux1_x86_64.whl\n",
      "Installing collected packages: itsdangerous, click, MarkupSafe, Jinja2, Werkzeug, Flask, pytz, six, python-dateutil, numpy, pandas, jsonschema, aniso8601, flask-restplus, Flask-Cors, scipy, scikit-learn, chardet, urllib3, certifi, idna, requests, emoji\n",
      "Successfully installed Flask-1.0.2 Flask-Cors-3.0.7 Jinja2-2.10 MarkupSafe-1.1.0 Werkzeug-0.14.1 aniso8601-4.1.0 certifi-2018.11.29 chardet-3.0.4 click-7.0 emoji-0.5.1 flask-restplus-0.12.1 idna-2.8 itsdangerous-1.1.0 jsonschema-2.6.0 numpy-1.16.0 pandas-0.23.0 python-dateutil-2.7.5 pytz-2018.9 requests-2.21.0 scikit-learn-0.20.2 scipy-1.2.0 six-1.12.0 urllib3-1.24.1\n",
      "\n",
      "Removing intermediate container b6b0b296f797\n",
      " ---> 49391b2506e4\n",
      "Step 8/9 : CMD [\"sh\", \"-c\", \"python3.6 emojifyapi2.py\"]\n",
      "\n",
      " ---> Running in 8470d7457fbb\n",
      "Removing intermediate container 8470d7457fbb\n",
      " ---> c89a346c7d4c\n",
      "Step 9/9 : EXPOSE 80\n",
      " ---> Running in dd75fc1f6234\n",
      "Removing intermediate container dd75fc1f6234\n",
      " ---> dcdb5a6e60e6\n",
      "Successfully built dcdb5a6e60e6\n",
      "Successfully tagged letbetalacraikkekic.azurecr.io/emojifyapi:2\n",
      "2019/01/21 13:41:11 Successfully executed container: build\n",
      "2019/01/21 13:41:11 Executing step ID: push. Working directory: '', Network: ''\n",
      "2019/01/21 13:41:11 Pushing image: letbetalacraikkekic.azurecr.io/emojifyapi:2, attempt 1\n",
      "The push refers to repository [letbetalacraikkekic.azurecr.io/emojifyapi]\n",
      "eb994f4e766f: Preparing\n",
      "a57c9f77482e: Preparing\n",
      "d28aef36a12c: Preparing\n",
      "efaada76a401: Preparing\n",
      "91e3171ff3f4: Preparing\n",
      "8f30c8a64fbc: Preparing\n",
      "04d9107330ad: Preparing\n",
      "b82de10e4f8e: Preparing\n",
      "1a36262221c3: Preparing\n",
      "d2217ead3a1c: Preparing\n",
      "b53b57a50746: Preparing\n",
      "d2518892581f: Preparing\n",
      "c581f4ede92d: Preparing\n",
      "8f30c8a64fbc: Waiting\n",
      "04d9107330ad: Waiting\n",
      "b82de10e4f8e: Waiting\n",
      "1a36262221c3: Waiting\n",
      "d2217ead3a1c: Waiting\n",
      "b53b57a50746: Waiting\n",
      "d2518892581f: Waiting\n",
      "c581f4ede92d: Waiting\n",
      "91e3171ff3f4: Layer already exists\n",
      "\n",
      "8f30c8a64fbc: Layer already exists\n",
      "04d9107330ad: Layer already exists\n",
      "\n",
      "b82de10e4f8e: Layer already exists\n",
      "efaada76a401: Pushed\n",
      "d2217ead3a1c: Layer already exists\n",
      "1a36262221c3: Layer already exists\n",
      "\n",
      "d2518892581f: Layer already exists\n",
      "b53b57a50746: Layer already exists\n",
      "c581f4ede92d: Layer already exists\n",
      "d28aef36a12c: Pushed\n",
      "\n",
      "eb994f4e766f: Pushed\n",
      "\n",
      "a57c9f77482e: Pushed\n",
      "\n",
      "2: digest: sha256:73cf84c86ae05780b6c0bde80a71c26c2cdadfef75d2ecefa74fa741f94157fa size: 3066\n",
      "2019/01/21 13:41:55 Successfully pushed image: letbetalacraikkekic.azurecr.io/emojifyapi:2\n",
      "2019/01/21 13:41:55 Step ID: build marked as successful (elapsed time in seconds: 50.639583)\n",
      "2019/01/21 13:41:55 Populating digests for step ID: build...\n",
      "2019/01/21 13:41:57 Successfully populated digests for step ID: build\n",
      "2019/01/21 13:41:57 Step ID: push marked as successful (elapsed time in seconds: 43.529204)\n",
      "\n",
      "2019/01/21 13:41:57 The following dependencies were found:\n",
      "2019/01/21 13:41:57 \n",
      "- image:\n",
      "    registry: letbetalacraikkekic.azurecr.io\n",
      "    repository: emojifyapi\n",
      "    tag: \"2\"\n",
      "    digest: sha256:73cf84c86ae05780b6c0bde80a71c26c2cdadfef75d2ecefa74fa741f94157fa\n",
      "  runtime-dependency:\n",
      "    registry: registry.hub.docker.com\n",
      "    repository: library/python\n",
      "    tag: 3.6-stretch\n",
      "    digest: sha256:ab2670ec57d486f73e49e7352de6a80b6767e3c996c1c0d0c158f17ae6f2d113\n",
      "  git: {}\n",
      "\n",
      "\n",
      "\n",
      "Run ID: cb1e was successful after 1m41s\n",
      "\n"
     ]
    },
    {
     "name": "stderr",
     "output_type": "stream",
     "text": [
      "WARNING: Packing source code into tar to upload...\n",
      "WARNING: Uploading archived source code from 'C:\\Users\\sysadmin\\AppData\\Local\\Temp\\2\\build_archive_5bdab5413fbf4b6d830df017cee44656.tar.gz'...\n",
      "WARNING: Sending context (64.893 MiB) to registry: letbetalacraikkekic...\n",
      "WARNING: Queued a build with ID: cb1e\n",
      "WARNING: Waiting for agent...\n"
     ]
    }
   ],
   "source": [
    "#CMD in Dockerfile to emojifyapi2.api\n",
    "!az acr build -r letbetalacraikkekic -t emojifyapi:2 ./api"
   ]
  },
  {
   "cell_type": "code",
   "execution_count": 66,
   "metadata": {},
   "outputs": [
    {
     "name": "stdout",
     "output_type": "stream",
     "text": [
      "{\n",
      "  \"containers\": [\n",
      "    {\n",
      "      \"command\": null,\n",
      "      \"environmentVariables\": [],\n",
      "      \"image\": \"letbetalacraikkekic.azurecr.io/emojifyapi:2\",\n",
      "      \"instanceView\": {\n",
      "        \"currentState\": {\n",
      "          \"detailStatus\": \"\",\n",
      "          \"exitCode\": null,\n",
      "          \"finishTime\": null,\n",
      "          \"startTime\": \"2019-01-21T13:44:31+00:00\",\n",
      "          \"state\": \"Running\"\n",
      "        },\n",
      "        \"events\": [\n",
      "          {\n",
      "            \"count\": 1,\n",
      "            \"firstTimestamp\": \"2019-01-21T13:43:09+00:00\",\n",
      "            \"lastTimestamp\": \"2019-01-21T13:43:09+00:00\",\n",
      "            \"message\": \"pulling image \\\"letbetalacraikkekic.azurecr.io/emojifyapi:2\\\"\",\n",
      "            \"name\": \"Pulling\",\n",
      "            \"type\": \"Normal\"\n",
      "          },\n",
      "          {\n",
      "            \"count\": 1,\n",
      "            \"firstTimestamp\": \"2019-01-21T13:44:26+00:00\",\n",
      "            \"lastTimestamp\": \"2019-01-21T13:44:26+00:00\",\n",
      "            \"message\": \"Successfully pulled image \\\"letbetalacraikkekic.azurecr.io/emojifyapi:2\\\"\",\n",
      "            \"name\": \"Pulled\",\n",
      "            \"type\": \"Normal\"\n",
      "          },\n",
      "          {\n",
      "            \"count\": 1,\n",
      "            \"firstTimestamp\": \"2019-01-21T13:44:31+00:00\",\n",
      "            \"lastTimestamp\": \"2019-01-21T13:44:31+00:00\",\n",
      "            \"message\": \"Created container\",\n",
      "            \"name\": \"Created\",\n",
      "            \"type\": \"Normal\"\n",
      "          },\n",
      "          {\n",
      "            \"count\": 1,\n",
      "            \"firstTimestamp\": \"2019-01-21T13:44:31+00:00\",\n",
      "            \"lastTimestamp\": \"2019-01-21T13:44:31+00:00\",\n",
      "            \"message\": \"Started container\",\n",
      "            \"name\": \"Started\",\n",
      "            \"type\": \"Normal\"\n",
      "          }\n",
      "        ],\n",
      "        \"previousState\": null,\n",
      "        \"restartCount\": 0\n",
      "      },\n",
      "      \"livenessProbe\": null,\n",
      "      \"name\": \"emojifyapi2\",\n",
      "      \"ports\": [\n",
      "        {\n",
      "          \"port\": 80,\n",
      "          \"protocol\": \"TCP\"\n",
      "        }\n",
      "      ],\n",
      "      \"readinessProbe\": null,\n",
      "      \"resources\": {\n",
      "        \"limits\": null,\n",
      "        \"requests\": {\n",
      "          \"cpu\": 1.0,\n",
      "          \"memoryInGb\": 1.5\n",
      "        }\n",
      "      },\n",
      "      \"volumeMounts\": null\n",
      "    }\n",
      "  ],\n",
      "  \"diagnostics\": null,\n",
      "  \"id\": \"/subscriptions/4fc79338-174b-4933-bbb1-ba2f27394d00/resourceGroups/LetBetaling-Container-Registry/providers/Microsoft.ContainerInstance/containerGroups/emojifyapi2\",\n",
      "  \"identity\": null,\n",
      "  \"imageRegistryCredentials\": [\n",
      "    {\n",
      "      \"password\": null,\n",
      "      \"server\": \"letbetalacraikkekic.azurecr.io\",\n",
      "      \"username\": \"letbetalacraikkekic\"\n",
      "    }\n",
      "  ],\n",
      "  \"instanceView\": {\n",
      "    \"events\": [],\n",
      "    \"state\": \"Running\"\n",
      "  },\n",
      "  \"ipAddress\": {\n",
      "    \"dnsNameLabel\": \"mbbkeynoteapi2\",\n",
      "    \"fqdn\": \"mbbkeynoteapi2.westeurope.azurecontainer.io\",\n",
      "    \"ip\": \"52.236.158.21\",\n",
      "    \"ports\": [\n",
      "      {\n",
      "        \"port\": 80,\n",
      "        \"protocol\": \"TCP\"\n",
      "      }\n",
      "    ],\n",
      "    \"type\": \"Public\"\n",
      "  },\n",
      "  \"location\": \"westeurope\",\n",
      "  \"name\": \"emojifyapi2\",\n",
      "  \"networkProfile\": null,\n",
      "  \"osType\": \"Linux\",\n",
      "  \"provisioningState\": \"Succeeded\",\n",
      "  \"resourceGroup\": \"LetBetaling-Container-Registry\",\n",
      "  \"restartPolicy\": \"Always\",\n",
      "  \"tags\": {},\n",
      "  \"type\": \"Microsoft.ContainerInstance/containerGroups\",\n",
      "  \"volumes\": null\n",
      "}\n"
     ]
    }
   ],
   "source": [
    "\n",
    "!az container create -n emojifyapi2 --image letbetalacraikkekic.azurecr.io/emojifyapi:2 -g LetBetaling-Container-Registry --ip-address public --dns-name-label mbbkeynoteapi2 --port 80 --registry-username letbetalacraikkekic --registry-password 3uaJ=9n47pIS7eD2x4zJ5wgYxrygPd9U"
   ]
  },
  {
   "cell_type": "markdown",
   "metadata": {},
   "source": [
    "## 3 iteration: Using LSTMs in Keras: \n",
    "\n",
    "This model will be able to take word ordering into account.It will continue to use pre-trained word embeddings to represent words, but will feed them into an LSTM, whose job it is to predict the most appropriate emoji. "
   ]
  },
  {
   "cell_type": "code",
   "execution_count": 4,
   "metadata": {},
   "outputs": [
    {
     "name": "stderr",
     "output_type": "stream",
     "text": [
      "C:\\Anaconda\\lib\\site-packages\\h5py\\__init__.py:36: FutureWarning: Conversion of the second argument of issubdtype from `float` to `np.floating` is deprecated. In future, it will be treated as `np.float64 == np.dtype(float).type`.\n",
      "  from ._conv import register_converters as _register_converters\n",
      "Using TensorFlow backend.\n"
     ]
    }
   ],
   "source": [
    "import numpy as np\n",
    "np.random.seed(0)\n",
    "from keras.models import Model\n",
    "from keras.layers import Dense, Input, Dropout, LSTM, Activation\n",
    "from keras.layers.embeddings import Embedding\n",
    "from keras.preprocessing import sequence\n",
    "from keras.initializers import glorot_uniform\n",
    "np.random.seed(1)"
   ]
  },
  {
   "cell_type": "markdown",
   "metadata": {},
   "source": [
    "### 2.1 - Overview of the model\n",
    "\n",
    "\n",
    "<img src=\"images/emojifier-v2.png\" style=\"width:700px;height:400px;\"> <br>\n",
    "<caption><center> **Figure 3**: Emojifier-V2. A 2-layer LSTM sequence classifier. </center></caption>\n",
    "\n"
   ]
  },
  {
   "cell_type": "markdown",
   "metadata": {},
   "source": [
    "### 2.2 Keras and mini-batching \n",
    "\n",
    "we want to train Keras using mini-batches. However, most deep learning frameworks require that all sequences in the same mini-batch have the same length. This is what allows vectorization to work: If you had a 3-word sentence and a 4-word sentence, then the computations needed for them are different (one takes 3 steps of an LSTM, one takes 4 steps) so it's just not possible to do them both at the same time.\n",
    "\n",
    "The common solution to this is to use padding. Specifically, set a maximum sequence length, and pad all sequences to the same length. For example, of the maximum sequence length is 20, we could pad every sentence with \"0\"s so that each input sentence is of length 20. Thus, a sentence \"i love you\" would be represented as $(e_{i}, e_{love}, e_{you}, \\vec{0}, \\vec{0}, \\ldots, \\vec{0})$. In this example, any sentences longer than 20 words would have to be truncated. One simple way to choose the maximum sequence length is to just pick the length of the longest sentence in the training set. \n"
   ]
  },
  {
   "cell_type": "markdown",
   "metadata": {},
   "source": [
    "### 2.3 - The Embedding layer\n",
    "\n",
    "In Keras, the embedding matrix is represented as a \"layer\", and maps positive integers (indices corresponding to words) into dense vectors of fixed size (the embedding vectors). It can be trained or initialized with a pretrained embedding. Because the training set is quite small, we will not update the word embeddings but will instead leave their values fixed.\n",
    "\n",
    "The `Embedding()` layer takes an integer matrix of size (batch size, max input length) as input. This corresponds to sentences converted into lists of indices (integers), as shown in the figure below.\n",
    "\n",
    "<img src=\"images/embedding1.png\" style=\"width:700px;height:250px;\">\n",
    "<caption><center> **Figure 4**: Embedding layer. This example shows the propagation of two examples through the embedding layer. Both have been zero-padded to a length of `max_len=5`. The final dimension of the representation is  `(2,max_len,50)` because the word embeddings we are using are 50 dimensional. </center></caption>\n",
    "\n",
    "The largest integer (i.e. word index) in the input should be no larger than the vocabulary size. The layer outputs an array of shape (batch size, max input length, dimension of word vectors).\n",
    "\n",
    "The first step is to convert all your training sentences into lists of indices, and then zero-pad all these lists so that their length is the length of the longest sentence. \n"
   ]
  },
  {
   "cell_type": "code",
   "execution_count": 5,
   "metadata": {},
   "outputs": [],
   "source": [
    "def sentences_to_indices(X, word_to_index, max_len):\n",
    "    \"\"\"\n",
    "    Converts an array of sentences (strings) into an array of indices corresponding to words in the sentences.\n",
    "    The output shape should be such that it can be given to `Embedding()` (described in Figure 4). \n",
    "    \n",
    "    Arguments:\n",
    "    X -- array of sentences (strings), of shape (m, 1)\n",
    "    word_to_index -- a dictionary containing the each word mapped to its index\n",
    "    max_len -- maximum number of words in a sentence. You can assume every sentence in X is no longer than this. \n",
    "    \n",
    "    Returns:\n",
    "    X_indices -- array of indices corresponding to words in the sentences from X, of shape (m, max_len)\n",
    "    \"\"\"\n",
    "    \n",
    "    m = X.shape[0]                                   # number of training examples\n",
    "    \n",
    "    ### START CODE HERE ###\n",
    "    # Initialize X_indices as a numpy matrix of zeros and the correct shape (≈ 1 line)\n",
    "    X_indices = np.zeros((m, max_len))\n",
    "    \n",
    "    for i in range(m):                               # loop over training examples\n",
    "        \n",
    "        # Convert the ith training sentence in lower case and split is into words. You should get a list of words.\n",
    "        sentence_words =X[i].lower().split()\n",
    "        \n",
    "        # Initialize j to 0\n",
    "        j = 0\n",
    "        \n",
    "        # Loop over the words of sentence_words\n",
    "        for w in sentence_words:\n",
    "            # Set the (i,j)th entry of X_indices to the index of the correct word.\n",
    "            X_indices[i, j] = word_to_index[sentence_words[j]]\n",
    "            # Increment j to j + 1\n",
    "            j = j + 1\n",
    "            \n",
    "    ### END CODE HERE ###\n",
    "    \n",
    "    return X_indices"
   ]
  },
  {
   "cell_type": "markdown",
   "metadata": {},
   "source": [
    "Run the following cell to check what `sentences_to_indices()` does, and check your results."
   ]
  },
  {
   "cell_type": "code",
   "execution_count": 8,
   "metadata": {},
   "outputs": [
    {
     "name": "stdout",
     "output_type": "stream",
     "text": [
      "X1 = ['funny lol' 'lets play baseball' 'food is ready for you']\n",
      "X1_indices = [[155345. 225122.      0.      0.      0.]\n",
      " [220930. 286375.  69714.      0.      0.]\n",
      " [151204. 192973. 302254. 151349. 394475.]]\n"
     ]
    }
   ],
   "source": [
    "X1 = np.array([\"funny lol\", \"lets play baseball\", \"food is ready for you\"])\n",
    "X1_indices = sentences_to_indices(X1,word_to_index, max_len = 5)\n",
    "print(\"X1 =\", X1)\n",
    "print(\"X1_indices =\", X1_indices)"
   ]
  },
  {
   "cell_type": "markdown",
   "metadata": {},
   "source": [
    "**Expected Output**:\n",
    "\n",
    "<table>\n",
    "    <tr>\n",
    "        <td>\n",
    "            **X1 =**\n",
    "        </td>\n",
    "        <td>\n",
    "           ['funny lol' 'lets play football' 'food is ready for you']\n",
    "        </td>\n",
    "    </tr>\n",
    "    <tr>\n",
    "        <td>\n",
    "            **X1_indices =**\n",
    "        </td>\n",
    "        <td>\n",
    "           [[ 155345.  225122.       0.       0.       0.] <br>\n",
    "            [ 220930.  286375.  151266.       0.       0.] <br>\n",
    "            [ 151204.  192973.  302254.  151349.  394475.]]\n",
    "        </td>\n",
    "    </tr>\n",
    "</table>"
   ]
  },
  {
   "cell_type": "markdown",
   "metadata": {},
   "source": [
    "We build the `Embedding()` layer in Keras, using pre-trained word vectors. After this layer is built, you will pass the output of `sentences_to_indices()` to it as an input, and the `Embedding()` layer will return the word embeddings for a sentence. \n",
    "\n",
    "We need to carry out the following steps:\n",
    "1. Initialize the embedding matrix as a numpy array of zeroes with the correct shape.\n",
    "2. Fill in the embedding matrix with all the word embeddings extracted from `word_to_vec_map`.\n",
    "3. Define Keras embedding layer. Use [Embedding()](https://keras.io/layers/embeddings/). Be sure to make this layer non-trainable, by setting `trainable = False` when calling `Embedding()`. If you were to set `trainable = True`, then it will allow the optimization algorithm to modify the values of the word embeddings. \n",
    "4. Set the embedding weights to be equal to the embedding matrix "
   ]
  },
  {
   "cell_type": "code",
   "execution_count": 19,
   "metadata": {},
   "outputs": [],
   "source": [
    "def pretrained_embedding_layer(word_to_vec_map, word_to_index):\n",
    "    \"\"\"\n",
    "    Creates a Keras Embedding() layer and loads in pre-trained GloVe 50-dimensional vectors.\n",
    "    \n",
    "    Arguments:\n",
    "    word_to_vec_map -- dictionary mapping words to their GloVe vector representation.\n",
    "    word_to_index -- dictionary mapping from words to their indices in the vocabulary (400,001 words)\n",
    "\n",
    "    Returns:\n",
    "    embedding_layer -- pretrained layer Keras instance\n",
    "    \"\"\"\n",
    "    \n",
    "    vocab_len = len(word_to_index) + 1                  # adding 1 to fit Keras embedding (requirement)\n",
    "    emb_dim = word_to_vec_map[\"cucumber\"].shape[0]      # define dimensionality of your GloVe word vectors (= 50)\n",
    "    \n",
    "    ### START CODE HERE ###\n",
    "    # Initialize the embedding matrix as a numpy array of zeros of shape (vocab_len, dimensions of word vectors = emb_dim)\n",
    "    emb_matrix = np.zeros((vocab_len, emb_dim))\n",
    "    \n",
    "    # Set each row \"index\" of the embedding matrix to be the word vector representation of the \"index\"th word of the vocabulary\n",
    "    for word, index in word_to_index.items():\n",
    "        emb_matrix[index, :] = word_to_vec_map[word]\n",
    "\n",
    "    # Define Keras embedding layer with the correct output/input sizes, make it trainable. Use Embedding(...). Make sure to set trainable=False. \n",
    "    embedding_layer = Embedding(vocab_len, emb_dim, trainable = False)\n",
    "\n",
    "    ### END CODE HERE ###\n",
    "\n",
    "    # Build the embedding layer, it is required before setting the weights of the embedding layer. Do not modify the \"None\".\n",
    "    embedding_layer.build((None,))\n",
    "    \n",
    "    # Set the weights of the embedding layer to the embedding matrix. Your layer is now pretrained.\n",
    "    embedding_layer.set_weights([emb_matrix])\n",
    "    \n",
    "    return embedding_layer"
   ]
  },
  {
   "cell_type": "code",
   "execution_count": 20,
   "metadata": {},
   "outputs": [
    {
     "name": "stdout",
     "output_type": "stream",
     "text": [
      "weights[0][1][3] = -0.3403\n"
     ]
    }
   ],
   "source": [
    "embedding_layer = pretrained_embedding_layer(word_to_vec_map, word_to_index)\n",
    "print(\"weights[0][1][3] =\", embedding_layer.get_weights()[0][1][3])"
   ]
  },
  {
   "cell_type": "markdown",
   "metadata": {},
   "source": [
    "**Expected Output**:\n",
    "\n",
    "<table>\n",
    "    <tr>\n",
    "        <td>\n",
    "            **weights[0][1][3] =**\n",
    "        </td>\n",
    "        <td>\n",
    "           -0.3403\n",
    "        </td>\n",
    "    </tr>\n",
    "</table>"
   ]
  },
  {
   "cell_type": "markdown",
   "metadata": {},
   "source": [
    "## 2.3 Building the Final model\n",
    "\n",
    "<img src=\"images/emojifier-v2.png\" style=\"width:700px;height:400px;\"> <br>\n",
    "<caption><center> **Figure 3**: Emojifier-v2. A 2-layer LSTM sequence classifier. </center></caption>"
   ]
  },
  {
   "cell_type": "code",
   "execution_count": 21,
   "metadata": {},
   "outputs": [],
   "source": [
    "def Emojify_V2(input_shape, word_to_vec_map, word_to_index):\n",
    "    \"\"\"\n",
    "    Function creating the Emojify-v2 model's graph.\n",
    "    \n",
    "    Arguments:\n",
    "    input_shape -- shape of the input, usually (max_len,)\n",
    "    word_to_vec_map -- dictionary mapping every word in a vocabulary into its 50-dimensional vector representation\n",
    "    word_to_index -- dictionary mapping from words to their indices in the vocabulary (400,001 words)\n",
    "\n",
    "    Returns:\n",
    "    model -- a model instance in Keras\n",
    "    \"\"\"\n",
    "    \n",
    "    # Define sentence_indices as the input of the graph, it should be of shape input_shape and dtype 'int32' (as it contains indices).\n",
    "    sentence_indices = Input(shape = input_shape, dtype = \"int32\")\n",
    "    \n",
    "    # Create the embedding layer pretrained with GloVe Vectors (≈1 line)\n",
    "    embedding_layer = pretrained_embedding_layer(word_to_vec_map, word_to_index)\n",
    "    \n",
    "    # Propagate sentence_indices through your embedding layer, you get back the embeddings\n",
    "    embeddings = embedding_layer(sentence_indices)   \n",
    "    \n",
    "    # Propagate the embeddings through an LSTM layer with 128-dimensional hidden state\n",
    "    # Be careful, the returned output should be a batch of sequences.\n",
    "    X = LSTM(128, return_sequences=True)(embeddings)\n",
    "    # Add dropout with a probability of 0.5\n",
    "    X = Dropout(0.2)(X)\n",
    "    # Propagate X trough another LSTM layer with 128-dimensional hidden state\n",
    "    # Be careful, the returned output should be a single hidden state, not a batch of sequences.\n",
    "    X = LSTM(128, return_sequences=False)(X)\n",
    "    # Add dropout with a probability of 0.5\n",
    "    X = Dropout(0.2)(X)\n",
    "    # Propagate X through a Dense layer with softmax activation to get back a batch of 5-dimensional vectors.\n",
    "    X = Dense(activation='softmax', units = 5)(X)\n",
    "    # Add a softmax activation\n",
    "    X = Activation('softmax')(X)\n",
    "    \n",
    "    # Create Model instance which converts sentence_indices into X.\n",
    "    model = Model(inputs=sentence_indices,outputs=X)\n",
    "    \n",
    "    ### END CODE HERE ###\n",
    "    \n",
    "    return model"
   ]
  },
  {
   "cell_type": "markdown",
   "metadata": {},
   "source": [
    "Run the following cell to create your model and check its summary. Because all sentences in the dataset are less than 10 words, we chose `max_len = 10`.  You should see your architecture, it uses \"20,223,927\" parameters, of which 20,000,050 (the word embeddings) are non-trainable, and the remaining 223,877 are. Because our vocabulary size has 400,001 words (with valid indices from 0 to 400,000) there are 400,001\\*50 = 20,000,050 non-trainable parameters. "
   ]
  },
  {
   "cell_type": "code",
   "execution_count": 37,
   "metadata": {
    "scrolled": false
   },
   "outputs": [
    {
     "name": "stdout",
     "output_type": "stream",
     "text": [
      "_________________________________________________________________\n",
      "Layer (type)                 Output Shape              Param #   \n",
      "=================================================================\n",
      "input_5 (InputLayer)         (None, 10)                0         \n",
      "_________________________________________________________________\n",
      "embedding_7 (Embedding)      (None, 10, 50)            20000050  \n",
      "_________________________________________________________________\n",
      "lstm_9 (LSTM)                (None, 10, 128)           91648     \n",
      "_________________________________________________________________\n",
      "dropout_9 (Dropout)          (None, 10, 128)           0         \n",
      "_________________________________________________________________\n",
      "lstm_10 (LSTM)               (None, 128)               131584    \n",
      "_________________________________________________________________\n",
      "dropout_10 (Dropout)         (None, 128)               0         \n",
      "_________________________________________________________________\n",
      "dense_5 (Dense)              (None, 5)                 645       \n",
      "_________________________________________________________________\n",
      "activation_5 (Activation)    (None, 5)                 0         \n",
      "=================================================================\n",
      "Total params: 20,223,927\n",
      "Trainable params: 223,877\n",
      "Non-trainable params: 20,000,050\n",
      "_________________________________________________________________\n"
     ]
    }
   ],
   "source": [
    "model = Emojify_V2((maxLen,), word_to_vec_map, word_to_index)\n",
    "model.summary()"
   ]
  },
  {
   "cell_type": "code",
   "execution_count": 38,
   "metadata": {},
   "outputs": [],
   "source": [
    "model.compile(loss='categorical_crossentropy', optimizer='adam', metrics=['accuracy'])"
   ]
  },
  {
   "cell_type": "markdown",
   "metadata": {},
   "source": [
    "It's time to train the model."
   ]
  },
  {
   "cell_type": "code",
   "execution_count": 39,
   "metadata": {},
   "outputs": [],
   "source": [
    "X_train_indices = sentences_to_indices(X_train, word_to_index, maxLen)\n",
    "Y_train_oh = convert_to_one_hot(Y_train, C = 5)"
   ]
  },
  {
   "cell_type": "markdown",
   "metadata": {},
   "source": [
    "Fit the Keras model on `X_train_indices` and `Y_train_oh`. We will use `epochs = 50` and `batch_size = 32`."
   ]
  },
  {
   "cell_type": "code",
   "execution_count": 40,
   "metadata": {
    "scrolled": true
   },
   "outputs": [
    {
     "name": "stdout",
     "output_type": "stream",
     "text": [
      "Epoch 1/120\n",
      "132/132 [==============================] - 2s 18ms/step - loss: 1.5901 - acc: 0.2803\n",
      "Epoch 2/120\n",
      "132/132 [==============================] - 0s 3ms/step - loss: 1.5557 - acc: 0.2955\n",
      "Epoch 3/120\n",
      "132/132 [==============================] - 0s 3ms/step - loss: 1.5273 - acc: 0.3409\n",
      "Epoch 4/120\n",
      "132/132 [==============================] - 0s 3ms/step - loss: 1.4345 - acc: 0.5152\n",
      "Epoch 5/120\n",
      "132/132 [==============================] - 0s 3ms/step - loss: 1.3594 - acc: 0.5530\n",
      "Epoch 6/120\n",
      "132/132 [==============================] - 0s 3ms/step - loss: 1.2580 - acc: 0.6818\n",
      "Epoch 7/120\n",
      "132/132 [==============================] - 0s 3ms/step - loss: 1.1674 - acc: 0.7879\n",
      "Epoch 8/120\n",
      "132/132 [==============================] - 0s 3ms/step - loss: 1.1665 - acc: 0.7500\n",
      "Epoch 9/120\n",
      "132/132 [==============================] - 0s 3ms/step - loss: 1.1393 - acc: 0.8030\n",
      "Epoch 10/120\n",
      "132/132 [==============================] - 0s 3ms/step - loss: 1.1022 - acc: 0.8106\n",
      "Epoch 11/120\n",
      "132/132 [==============================] - 0s 3ms/step - loss: 1.0734 - acc: 0.8258\n",
      "Epoch 12/120\n",
      "132/132 [==============================] - 0s 3ms/step - loss: 1.0211 - acc: 0.8864\n",
      "Epoch 13/120\n",
      "132/132 [==============================] - 0s 3ms/step - loss: 1.0443 - acc: 0.8788\n",
      "Epoch 14/120\n",
      "132/132 [==============================] - 0s 3ms/step - loss: 1.0505 - acc: 0.8485\n",
      "Epoch 15/120\n",
      "132/132 [==============================] - 0s 3ms/step - loss: 1.0621 - acc: 0.8258\n",
      "Epoch 16/120\n",
      "132/132 [==============================] - 0s 3ms/step - loss: 1.0302 - acc: 0.8788\n",
      "Epoch 17/120\n",
      "132/132 [==============================] - 0s 3ms/step - loss: 1.0073 - acc: 0.9015\n",
      "Epoch 18/120\n",
      "132/132 [==============================] - 0s 3ms/step - loss: 1.0276 - acc: 0.8788\n",
      "Epoch 19/120\n",
      "132/132 [==============================] - 0s 3ms/step - loss: 1.0526 - acc: 0.8485\n",
      "Epoch 20/120\n",
      "132/132 [==============================] - 0s 3ms/step - loss: 1.0803 - acc: 0.8258\n",
      "Epoch 21/120\n",
      "132/132 [==============================] - 0s 3ms/step - loss: 0.9982 - acc: 0.9091\n",
      "Epoch 22/120\n",
      "132/132 [==============================] - 0s 3ms/step - loss: 0.9784 - acc: 0.9394\n",
      "Epoch 23/120\n",
      "132/132 [==============================] - 0s 3ms/step - loss: 1.1130 - acc: 0.7955\n",
      "Epoch 24/120\n",
      "132/132 [==============================] - 0s 3ms/step - loss: 1.0200 - acc: 0.8864\n",
      "Epoch 25/120\n",
      "132/132 [==============================] - 0s 3ms/step - loss: 0.9884 - acc: 0.9091\n",
      "Epoch 26/120\n",
      "132/132 [==============================] - 0s 3ms/step - loss: 1.0030 - acc: 0.9015\n",
      "Epoch 27/120\n",
      "132/132 [==============================] - 0s 3ms/step - loss: 0.9839 - acc: 0.9242\n",
      "Epoch 28/120\n",
      "132/132 [==============================] - 0s 3ms/step - loss: 0.9881 - acc: 0.9167\n",
      "Epoch 29/120\n",
      "132/132 [==============================] - 0s 3ms/step - loss: 0.9530 - acc: 0.9545\n",
      "Epoch 30/120\n",
      "132/132 [==============================] - 0s 3ms/step - loss: 0.9738 - acc: 0.9318\n",
      "Epoch 31/120\n",
      "132/132 [==============================] - 0s 3ms/step - loss: 0.9778 - acc: 0.9242\n",
      "Epoch 32/120\n",
      "132/132 [==============================] - 0s 3ms/step - loss: 0.9683 - acc: 0.9394\n",
      "Epoch 33/120\n",
      "132/132 [==============================] - 0s 3ms/step - loss: 0.9736 - acc: 0.9318\n",
      "Epoch 34/120\n",
      "132/132 [==============================] - 0s 3ms/step - loss: 0.9728 - acc: 0.9318\n",
      "Epoch 35/120\n",
      "132/132 [==============================] - 0s 3ms/step - loss: 0.9836 - acc: 0.9167\n",
      "Epoch 36/120\n",
      "132/132 [==============================] - 0s 3ms/step - loss: 0.9855 - acc: 0.9167\n",
      "Epoch 37/120\n",
      "132/132 [==============================] - 0s 3ms/step - loss: 1.0478 - acc: 0.8485\n",
      "Epoch 38/120\n",
      "132/132 [==============================] - 0s 3ms/step - loss: 1.0230 - acc: 0.8788\n",
      "Epoch 39/120\n",
      "132/132 [==============================] - 0s 3ms/step - loss: 0.9878 - acc: 0.9242\n",
      "Epoch 40/120\n",
      "132/132 [==============================] - 0s 3ms/step - loss: 1.0191 - acc: 0.8864\n",
      "Epoch 41/120\n",
      "132/132 [==============================] - 0s 3ms/step - loss: 0.9928 - acc: 0.9167\n",
      "Epoch 42/120\n",
      "132/132 [==============================] - 0s 3ms/step - loss: 0.9633 - acc: 0.9470\n",
      "Epoch 43/120\n",
      "132/132 [==============================] - 0s 3ms/step - loss: 0.9559 - acc: 0.9470\n",
      "Epoch 44/120\n",
      "132/132 [==============================] - 0s 3ms/step - loss: 0.9538 - acc: 0.9470\n",
      "Epoch 45/120\n",
      "132/132 [==============================] - 0s 3ms/step - loss: 0.9620 - acc: 0.9394\n",
      "Epoch 46/120\n",
      "132/132 [==============================] - 0s 3ms/step - loss: 0.9525 - acc: 0.9470\n",
      "Epoch 47/120\n",
      "132/132 [==============================] - 0s 3ms/step - loss: 0.9495 - acc: 0.9545\n",
      "Epoch 48/120\n",
      "132/132 [==============================] - 0s 3ms/step - loss: 0.9513 - acc: 0.9545\n",
      "Epoch 49/120\n",
      "132/132 [==============================] - 0s 3ms/step - loss: 0.9507 - acc: 0.9545\n",
      "Epoch 50/120\n",
      "132/132 [==============================] - 0s 3ms/step - loss: 0.9572 - acc: 0.9470\n",
      "Epoch 51/120\n",
      "132/132 [==============================] - 0s 3ms/step - loss: 0.9500 - acc: 0.9545\n",
      "Epoch 52/120\n",
      "132/132 [==============================] - 0s 3ms/step - loss: 0.9554 - acc: 0.9470\n",
      "Epoch 53/120\n",
      "132/132 [==============================] - 0s 3ms/step - loss: 0.9398 - acc: 0.9621\n",
      "Epoch 54/120\n",
      "132/132 [==============================] - 0s 3ms/step - loss: 0.9610 - acc: 0.9470\n",
      "Epoch 55/120\n",
      "132/132 [==============================] - 0s 3ms/step - loss: 0.9421 - acc: 0.9621\n",
      "Epoch 56/120\n",
      "132/132 [==============================] - 0s 3ms/step - loss: 0.9417 - acc: 0.9621\n",
      "Epoch 57/120\n",
      "132/132 [==============================] - 0s 3ms/step - loss: 0.9416 - acc: 0.9621\n",
      "Epoch 58/120\n",
      "132/132 [==============================] - 0s 3ms/step - loss: 0.9413 - acc: 0.9621\n",
      "Epoch 59/120\n",
      "132/132 [==============================] - 0s 3ms/step - loss: 0.9412 - acc: 0.9621\n",
      "Epoch 60/120\n",
      "132/132 [==============================] - 0s 3ms/step - loss: 0.9417 - acc: 0.9621\n",
      "Epoch 61/120\n",
      "132/132 [==============================] - 0s 3ms/step - loss: 0.9410 - acc: 0.9621\n",
      "Epoch 62/120\n",
      "132/132 [==============================] - 0s 3ms/step - loss: 0.9413 - acc: 0.9621\n",
      "Epoch 63/120\n",
      "132/132 [==============================] - 0s 3ms/step - loss: 0.9409 - acc: 0.9621\n",
      "Epoch 64/120\n",
      "132/132 [==============================] - 0s 3ms/step - loss: 0.9412 - acc: 0.9621\n",
      "Epoch 65/120\n",
      "132/132 [==============================] - 0s 3ms/step - loss: 0.9410 - acc: 0.9621\n",
      "Epoch 66/120\n",
      "132/132 [==============================] - 0s 3ms/step - loss: 0.9410 - acc: 0.9621\n",
      "Epoch 67/120\n",
      "132/132 [==============================] - 0s 3ms/step - loss: 0.9409 - acc: 0.9621\n",
      "Epoch 68/120\n",
      "132/132 [==============================] - 0s 3ms/step - loss: 0.9406 - acc: 0.9621\n",
      "Epoch 69/120\n",
      "132/132 [==============================] - 0s 3ms/step - loss: 0.9408 - acc: 0.9621\n",
      "Epoch 70/120\n",
      "132/132 [==============================] - 0s 3ms/step - loss: 0.9407 - acc: 0.9621\n",
      "Epoch 71/120\n",
      "132/132 [==============================] - 0s 3ms/step - loss: 0.9407 - acc: 0.9621\n",
      "Epoch 72/120\n",
      "132/132 [==============================] - 0s 3ms/step - loss: 0.9404 - acc: 0.9621\n",
      "Epoch 73/120\n",
      "132/132 [==============================] - 0s 3ms/step - loss: 0.9401 - acc: 0.9621\n",
      "Epoch 74/120\n",
      "132/132 [==============================] - 0s 3ms/step - loss: 0.9412 - acc: 0.9621\n",
      "Epoch 75/120\n",
      "132/132 [==============================] - 0s 3ms/step - loss: 0.9480 - acc: 0.9545\n",
      "Epoch 76/120\n",
      "132/132 [==============================] - 0s 3ms/step - loss: 0.9415 - acc: 0.9621\n",
      "Epoch 77/120\n",
      "132/132 [==============================] - 0s 3ms/step - loss: 0.9409 - acc: 0.9621\n",
      "Epoch 78/120\n",
      "132/132 [==============================] - 0s 3ms/step - loss: 0.9407 - acc: 0.9621\n",
      "Epoch 79/120\n",
      "132/132 [==============================] - 0s 3ms/step - loss: 0.9390 - acc: 0.9621\n",
      "Epoch 80/120\n",
      "132/132 [==============================] - 0s 3ms/step - loss: 0.9281 - acc: 0.9773\n",
      "Epoch 81/120\n",
      "132/132 [==============================] - 0s 3ms/step - loss: 0.9270 - acc: 0.9773\n",
      "Epoch 82/120\n",
      "132/132 [==============================] - 0s 3ms/step - loss: 0.9260 - acc: 0.9773\n",
      "Epoch 83/120\n",
      "132/132 [==============================] - 0s 3ms/step - loss: 0.9257 - acc: 0.9773\n",
      "Epoch 84/120\n",
      "132/132 [==============================] - 0s 3ms/step - loss: 0.9253 - acc: 0.9773\n",
      "Epoch 85/120\n",
      "132/132 [==============================] - 0s 3ms/step - loss: 0.9261 - acc: 0.9773\n",
      "Epoch 86/120\n",
      "132/132 [==============================] - 0s 3ms/step - loss: 0.9250 - acc: 0.9773\n",
      "Epoch 87/120\n",
      "132/132 [==============================] - 0s 3ms/step - loss: 0.9249 - acc: 0.9773\n",
      "Epoch 88/120\n",
      "132/132 [==============================] - 0s 3ms/step - loss: 0.9248 - acc: 0.9773\n",
      "Epoch 89/120\n",
      "132/132 [==============================] - 0s 3ms/step - loss: 0.9232 - acc: 0.9773\n",
      "Epoch 90/120\n",
      "132/132 [==============================] - 0s 2ms/step - loss: 0.9244 - acc: 0.9848\n",
      "Epoch 91/120\n",
      "132/132 [==============================] - 0s 3ms/step - loss: 0.9345 - acc: 0.9697\n",
      "Epoch 92/120\n",
      "132/132 [==============================] - 0s 3ms/step - loss: 0.9806 - acc: 0.9242\n",
      "Epoch 93/120\n",
      "132/132 [==============================] - 0s 3ms/step - loss: 0.9327 - acc: 0.9697\n",
      "Epoch 94/120\n",
      "132/132 [==============================] - 0s 3ms/step - loss: 0.9314 - acc: 0.9697\n",
      "Epoch 95/120\n",
      "132/132 [==============================] - 0s 3ms/step - loss: 0.9338 - acc: 0.9697\n",
      "Epoch 96/120\n",
      "132/132 [==============================] - 0s 3ms/step - loss: 0.9286 - acc: 0.9773\n",
      "Epoch 97/120\n",
      "132/132 [==============================] - 0s 3ms/step - loss: 0.9240 - acc: 0.9848\n",
      "Epoch 98/120\n",
      "132/132 [==============================] - 0s 3ms/step - loss: 0.9406 - acc: 0.9697\n",
      "Epoch 99/120\n",
      "132/132 [==============================] - 0s 3ms/step - loss: 0.9223 - acc: 0.9848\n",
      "Epoch 100/120\n",
      "132/132 [==============================] - 0s 3ms/step - loss: 0.9281 - acc: 0.9773\n",
      "Epoch 101/120\n",
      "132/132 [==============================] - 0s 3ms/step - loss: 0.9213 - acc: 0.9848\n",
      "Epoch 102/120\n",
      "132/132 [==============================] - 0s 3ms/step - loss: 0.9200 - acc: 0.9848\n",
      "Epoch 103/120\n",
      "132/132 [==============================] - 0s 3ms/step - loss: 0.9202 - acc: 0.9848\n",
      "Epoch 104/120\n",
      "132/132 [==============================] - 0s 3ms/step - loss: 0.9201 - acc: 0.9848\n",
      "Epoch 105/120\n",
      "132/132 [==============================] - 0s 3ms/step - loss: 0.9194 - acc: 0.9848\n",
      "Epoch 106/120\n",
      "132/132 [==============================] - 0s 3ms/step - loss: 0.9191 - acc: 0.9848\n",
      "Epoch 107/120\n",
      "132/132 [==============================] - 0s 3ms/step - loss: 0.9197 - acc: 0.9848\n",
      "Epoch 108/120\n",
      "132/132 [==============================] - 0s 3ms/step - loss: 0.9195 - acc: 0.9848\n",
      "Epoch 109/120\n",
      "132/132 [==============================] - 0s 3ms/step - loss: 0.9195 - acc: 0.9848\n",
      "Epoch 110/120\n",
      "132/132 [==============================] - 0s 3ms/step - loss: 0.9200 - acc: 0.9848\n",
      "Epoch 111/120\n",
      "132/132 [==============================] - 0s 3ms/step - loss: 0.9200 - acc: 0.9848\n",
      "Epoch 112/120\n",
      "132/132 [==============================] - 0s 3ms/step - loss: 0.9190 - acc: 0.9848\n",
      "Epoch 113/120\n",
      "132/132 [==============================] - 0s 3ms/step - loss: 0.9189 - acc: 0.9848\n",
      "Epoch 114/120\n",
      "132/132 [==============================] - 0s 3ms/step - loss: 0.9181 - acc: 0.9848\n",
      "Epoch 115/120\n",
      "132/132 [==============================] - 0s 3ms/step - loss: 0.9273 - acc: 0.9848\n",
      "Epoch 116/120\n",
      "132/132 [==============================] - 0s 3ms/step - loss: 0.9710 - acc: 0.9318\n",
      "Epoch 117/120\n",
      "132/132 [==============================] - 0s 3ms/step - loss: 0.9569 - acc: 0.9470\n",
      "Epoch 118/120\n",
      "132/132 [==============================] - 0s 3ms/step - loss: 0.9394 - acc: 0.9697\n",
      "Epoch 119/120\n",
      "132/132 [==============================] - 0s 3ms/step - loss: 0.9489 - acc: 0.9545\n",
      "Epoch 120/120\n",
      "132/132 [==============================] - 0s 3ms/step - loss: 0.9566 - acc: 0.9470\n"
     ]
    },
    {
     "data": {
      "text/plain": [
       "<keras.callbacks.History at 0x18c1cb0d588>"
      ]
     },
     "execution_count": 40,
     "metadata": {},
     "output_type": "execute_result"
    }
   ],
   "source": [
    "model.fit(X_train_indices, Y_train_oh, epochs = 120, batch_size = 12, shuffle=True)"
   ]
  },
  {
   "cell_type": "markdown",
   "metadata": {},
   "source": [
    "Evaluate model on the test set. "
   ]
  },
  {
   "cell_type": "code",
   "execution_count": 41,
   "metadata": {
    "scrolled": true
   },
   "outputs": [
    {
     "name": "stdout",
     "output_type": "stream",
     "text": [
      "56/56 [==============================] - 1s 9ms/step\n",
      "\n",
      "Test accuracy =  0.8214285629136222\n"
     ]
    }
   ],
   "source": [
    "X_test_indices = sentences_to_indices(X_test, word_to_index, max_len = maxLen)\n",
    "Y_test_oh = convert_to_one_hot(Y_test, C = 5)\n",
    "loss, acc = model.evaluate(X_test_indices, Y_test_oh)\n",
    "print()\n",
    "print(\"Test accuracy = \", acc)"
   ]
  },
  {
   "cell_type": "markdown",
   "metadata": {},
   "source": [
    "You should get a test accuracy between 80% and 95%. Run the cell below to see the mislabelled examples. "
   ]
  },
  {
   "cell_type": "code",
   "execution_count": 42,
   "metadata": {},
   "outputs": [
    {
     "name": "stdout",
     "output_type": "stream",
     "text": [
      "Expected emoji:😄 prediction: she got me a nice present\t❤️\n",
      "Expected emoji:😞 prediction: work is hard\t😄\n",
      "Expected emoji:😞 prediction: This girl is messing with me\t❤️\n",
      "Expected emoji:😞 prediction: work is horrible\t😄\n",
      "Expected emoji:😄 prediction: you brighten my day\t❤️\n",
      "Expected emoji:😞 prediction: she is a bully\t❤️\n",
      "Expected emoji:😞 prediction: My life is so boring\t❤️\n",
      "Expected emoji:😄 prediction: will you be my valentine\t❤️\n",
      "Expected emoji:😞 prediction: go away\t⚾\n",
      "Expected emoji:😞 prediction: yesterday we lost again\t⚾\n"
     ]
    }
   ],
   "source": [
    "# This code allows you to see the mislabelled examples\n",
    "C = 5\n",
    "y_test_oh = np.eye(C)[Y_test.reshape(-1)]\n",
    "X_test_indices = sentences_to_indices(X_test, word_to_index, maxLen)\n",
    "pred = model.predict(X_test_indices)\n",
    "for i in range(len(X_test)):\n",
    "    x = X_test_indices\n",
    "    num = np.argmax(pred[i])\n",
    "    if(num != Y_test[i]):\n",
    "        print('Expected emoji:'+ label_to_emoji(Y_test[i]) + ' prediction: '+ X_test[i] + label_to_emoji(num).strip())"
   ]
  },
  {
   "cell_type": "markdown",
   "metadata": {},
   "source": [
    "Try it on your own example. Write own sentence below. "
   ]
  },
  {
   "cell_type": "code",
   "execution_count": 46,
   "metadata": {},
   "outputs": [
    {
     "name": "stdout",
     "output_type": "stream",
     "text": [
      "not feeling happy 😄\n"
     ]
    }
   ],
   "source": [
    "# Change the sentence below to see your prediction. Make sure all the words are in the Glove embeddings.  \n",
    "x_test = np.array(['not feeling happy'])\n",
    "X_test_indices = sentences_to_indices(x_test, word_to_index, maxLen)\n",
    "print(x_test[0] +' '+  label_to_emoji(np.argmax(model.predict(X_test_indices))))"
   ]
  },
  {
   "cell_type": "markdown",
   "metadata": {},
   "source": [
    "## Hyper parameter tuning\n",
    "Lets go to the cloud for parralell power!\n"
   ]
  },
  {
   "cell_type": "markdown",
   "metadata": {},
   "source": [
    "## Acknowledgments\n",
    " Andrew NGs coursera class on sequence modeling.\n",
    "\n",
    "\n"
   ]
  },
  {
   "cell_type": "code",
   "execution_count": null,
   "metadata": {},
   "outputs": [],
   "source": []
  }
 ],
 "metadata": {
  "coursera": {
   "course_slug": "nlp-sequence-models",
   "graded_item_id": "RNnEs",
   "launcher_item_id": "acNYU"
  },
  "kernelspec": {
   "display_name": "Python 3",
   "language": "python",
   "name": "python3"
  },
  "language_info": {
   "codemirror_mode": {
    "name": "ipython",
    "version": 3
   },
   "file_extension": ".py",
   "mimetype": "text/x-python",
   "name": "python",
   "nbconvert_exporter": "python",
   "pygments_lexer": "ipython3",
   "version": "3.6.5"
  }
 },
 "nbformat": 4,
 "nbformat_minor": 2
}
